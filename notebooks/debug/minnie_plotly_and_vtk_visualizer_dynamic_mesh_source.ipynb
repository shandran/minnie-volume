{
 "cells": [
  {
   "cell_type": "code",
   "execution_count": 1,
   "id": "a9d319e3",
   "metadata": {},
   "outputs": [],
   "source": [
    "import pandas as pd\n",
    "import numpy as np\n",
    "import os\n",
    "from meshparty import trimesh_io, trimesh_vtk, skeleton, utils\n",
    "import vtk\n",
    "import matplotlib.pyplot as plt\n",
    "import plotly.express as px\n",
    "import plotly.graph_objects as go\n",
    "import time\n",
    "from tqdm import tqdm"
   ]
  },
  {
   "cell_type": "code",
   "execution_count": 2,
   "id": "bf46bcf7",
   "metadata": {},
   "outputs": [],
   "source": [
    "# setup the mesh meta to handle downloads and caching\n",
    "mesh_dir = 'data/cell_meshes' # or change to your desired folder\n",
    "seg_source = 'graphene://https://minnie.microns-daf.com/segmentation/table/minnie65_public' # static: \"precomputed://gs://iarpa_microns/minnie/minnie65/seg\"\n",
    "mm = trimesh_io.MeshMeta(cv_path=seg_source,\n",
    "                         disk_cache_path=mesh_dir, \n",
    "                         cache_size=20)"
   ]
  },
  {
   "cell_type": "code",
   "execution_count": 3,
   "id": "52e6df0b",
   "metadata": {},
   "outputs": [],
   "source": [
    "cell_id_list = [864691135841901283]\n",
    "\n",
    "#[864691134377365225, 864691134631869459, 864691135356924298, 864691135569257151, 864691135614144971, 864691135633445828, 864691135633446340, 864691135651530692, 864691135662027204, 864691135725964092, 864691135725975612, 864691135758681856, 864691135855524524, 864691136110516855, 864691136167513207, 864691136390387071]\n",
    "\n",
    "#[864691137019822702] #[864691135776009133]\n",
    "#[864691134631869459, 864691135065127492, 864691135568924806, 864691135609473287, 864691135651530692, 864691135725964092, 864691135725975612, 864691135736897668, 864691135855524524, 864691136388245879, 864691136390387071, 864691136451061503]\n",
    "#[864691136118988312]\n",
    "#[864691135272287761, 864691135404198971, 864691135462779966, 864691135495288772, 864691135609956419, 864691135675330756, 864691136026290056, 864691136691582582, 864691136758228078]\n",
    "#[864691135587226354]\n",
    "#[864691136237449532]\n",
    "#[864691135359140440]\n",
    "#[864691135866387734]\n",
    "#[864691135841901283] Manifest not found error\n",
    "#[864691135569733766] Manifest not found error\n",
    "#[864691135675330756]\n",
    "#[864691135622557507]\n",
    "#[864691136437464222] Manifest not found error\n",
    "#[864691136781187182]\n",
    "#[864691135837606792]\n",
    "#[864691135695674004]\n",
    "#[864691135996759498]\n",
    "#[864691134964446239, 864691135012524790, 864691135256138671, 864691135269913253, 864691135337851366, 864691135341421745, 864691135348239831, 864691135386363265, 864691135497750291, 864691135657783170, 864691135809446092, 864691135837182867, 864691135880405261, 864691136023933241, 864691136194008022, 864691136330394007]\n",
    "#[864691136194086870]\n",
    "#[864691135081699319, 864691135628037572, 864691135724244139, 864691136134568075, 864691136577483540]\n",
    "#[864691135081699319, 864691135162208557, 864691135373699401, 864691135628037572, 864691135724244139, 864691135937674805, 864691136134568075, 864691136273617421, 864691136577483540]\n",
    "#[864691135269913253,864691135293126156]"
   ]
  },
  {
   "cell_type": "code",
   "execution_count": 4,
   "id": "3fcce033",
   "metadata": {},
   "outputs": [
    {
     "name": "stderr",
     "output_type": "stream",
     "text": [
      "Downloading Meshes:   0%|          | 0/1 [00:00<?, ?it/s]\n",
      "Downloading Meshes:   0%|          | 0/1 [13:20<?, ?it/s]\u001b[A\n",
      "Downloading Meshes:   0%|          | 0/1 [13:26<?, ?it/s]\n"
     ]
    },
    {
     "ename": "SSLError",
     "evalue": "None: Max retries exceeded with url: /minnie65_pcg/ws/graphene_meshes_minnie3_v1/initial/4/6298628-0.shard (Caused by None)",
     "output_type": "error",
     "traceback": [
      "\u001b[1;31m---------------------------------------------------------------------------\u001b[0m",
      "\u001b[1;31mRemoteTraceback\u001b[0m                           Traceback (most recent call last)",
      "\u001b[1;31mRemoteTraceback\u001b[0m: \n\"\"\"\nTraceback (most recent call last):\n  File \"C:\\Users\\drhan\\anaconda3\\envs\\micronsbinder\\lib\\site-packages\\urllib3\\connectionpool.py\", line 710, in urlopen\n    chunked=chunked,\n  File \"C:\\Users\\drhan\\anaconda3\\envs\\micronsbinder\\lib\\site-packages\\urllib3\\connectionpool.py\", line 386, in _make_request\n    self._validate_conn(conn)\n  File \"C:\\Users\\drhan\\anaconda3\\envs\\micronsbinder\\lib\\site-packages\\urllib3\\connectionpool.py\", line 1042, in _validate_conn\n    conn.connect()\n  File \"C:\\Users\\drhan\\anaconda3\\envs\\micronsbinder\\lib\\site-packages\\urllib3\\connection.py\", line 424, in connect\n    tls_in_tls=tls_in_tls,\n  File \"C:\\Users\\drhan\\anaconda3\\envs\\micronsbinder\\lib\\site-packages\\urllib3\\util\\ssl_.py\", line 450, in ssl_wrap_socket\n    sock, context, tls_in_tls, server_hostname=server_hostname\n  File \"C:\\Users\\drhan\\anaconda3\\envs\\micronsbinder\\lib\\site-packages\\urllib3\\util\\ssl_.py\", line 493, in _ssl_wrap_socket_impl\n    return ssl_context.wrap_socket(sock, server_hostname=server_hostname)\n  File \"C:\\Users\\drhan\\anaconda3\\envs\\micronsbinder\\lib\\ssl.py\", line 423, in wrap_socket\n    session=session\n  File \"C:\\Users\\drhan\\anaconda3\\envs\\micronsbinder\\lib\\ssl.py\", line 870, in _create\n    self.do_handshake()\n  File \"C:\\Users\\drhan\\anaconda3\\envs\\micronsbinder\\lib\\ssl.py\", line 1139, in do_handshake\n    self._sslobj.do_handshake()\nssl.SSLError: [SSL: KRB5_S_TKT_NYV] unexpected eof while reading (_ssl.c:1091)\n\nDuring handling of the above exception, another exception occurred:\n\nTraceback (most recent call last):\n  File \"C:\\Users\\drhan\\anaconda3\\envs\\micronsbinder\\lib\\site-packages\\requests\\adapters.py\", line 499, in send\n    timeout=timeout,\n  File \"C:\\Users\\drhan\\anaconda3\\envs\\micronsbinder\\lib\\site-packages\\urllib3\\connectionpool.py\", line 788, in urlopen\n    method, url, error=e, _pool=self, _stacktrace=sys.exc_info()[2]\n  File \"C:\\Users\\drhan\\anaconda3\\envs\\micronsbinder\\lib\\site-packages\\urllib3\\util\\retry.py\", line 592, in increment\n    raise MaxRetryError(_pool, url, error or ResponseError(cause))\nurllib3.exceptions.MaxRetryError: HTTPSConnectionPool(host='storage.googleapis.com', port=443): Max retries exceeded with url: /minnie65_pcg/ws/graphene_meshes_minnie3_v1/initial/4/6298628-0.shard (Caused by SSLError(SSLError(1, '[SSL: KRB5_S_TKT_NYV] unexpected eof while reading (_ssl.c:1091)')))\n\nDuring handling of the above exception, another exception occurred:\n\nTraceback (most recent call last):\n  File \"C:\\Users\\drhan\\anaconda3\\envs\\micronsbinder\\lib\\site-packages\\multiprocess\\pool.py\", line 121, in worker\n    result = (True, func(*args, **kwds))\n  File \"C:\\Users\\drhan\\anaconda3\\envs\\micronsbinder\\lib\\site-packages\\pathos\\helpers\\mp_helper.py\", line 15, in <lambda>\n    func = lambda args: f(*args)\n  File \"C:\\Users\\drhan\\anaconda3\\envs\\micronsbinder\\lib\\site-packages\\cloudfiles\\cloudfiles.py\", line 470, in get\n    green=self.green,\n  File \"C:\\Users\\drhan\\anaconda3\\envs\\micronsbinder\\lib\\site-packages\\cloudfiles\\scheduler.py\", line 144, in schedule_jobs\n    return schedule_threaded_jobs(fns, concurrency, progress, total, count_return)\n  File \"C:\\Users\\drhan\\anaconda3\\envs\\micronsbinder\\lib\\site-packages\\cloudfiles\\scheduler.py\", line 40, in schedule_threaded_jobs\n    tq.put(updatefn(fn))\n  File \"C:\\Users\\drhan\\anaconda3\\envs\\micronsbinder\\lib\\site-packages\\cloudfiles\\threaded_queue.py\", line 254, in __exit__\n    self.wait(progress=self.with_progress)\n  File \"C:\\Users\\drhan\\anaconda3\\envs\\micronsbinder\\lib\\site-packages\\cloudfiles\\threaded_queue.py\", line 231, in wait\n    self._check_errors()\n  File \"C:\\Users\\drhan\\anaconda3\\envs\\micronsbinder\\lib\\site-packages\\cloudfiles\\threaded_queue.py\", line 188, in _check_errors\n    raise err\n  File \"C:\\Users\\drhan\\anaconda3\\envs\\micronsbinder\\lib\\site-packages\\cloudfiles\\threaded_queue.py\", line 150, in _consume_queue\n    self._consume_queue_execution(fn)\n  File \"C:\\Users\\drhan\\anaconda3\\envs\\micronsbinder\\lib\\site-packages\\cloudfiles\\threaded_queue.py\", line 177, in _consume_queue_execution\n    fn()\n  File \"C:\\Users\\drhan\\anaconda3\\envs\\micronsbinder\\lib\\site-packages\\cloudfiles\\scheduler.py\", line 33, in realupdatefn\n    res = fn()\n  File \"C:\\Users\\drhan\\anaconda3\\envs\\micronsbinder\\lib\\site-packages\\cloudfiles\\cloudfiles.py\", line 436, in download\n    raise error\n  File \"C:\\Users\\drhan\\anaconda3\\envs\\micronsbinder\\lib\\site-packages\\cloudfiles\\cloudfiles.py\", line 420, in download\n    path, start=start, end=end, part_size=part_size\n  File \"C:\\Users\\drhan\\anaconda3\\envs\\micronsbinder\\lib\\site-packages\\tenacity\\__init__.py\", line 324, in wrapped_f\n    return self(f, *args, **kw)\n  File \"C:\\Users\\drhan\\anaconda3\\envs\\micronsbinder\\lib\\site-packages\\tenacity\\__init__.py\", line 404, in __call__\n    do = self.iter(retry_state=retry_state)\n  File \"C:\\Users\\drhan\\anaconda3\\envs\\micronsbinder\\lib\\site-packages\\tenacity\\__init__.py\", line 360, in iter\n    raise retry_exc.reraise()\n  File \"C:\\Users\\drhan\\anaconda3\\envs\\micronsbinder\\lib\\site-packages\\tenacity\\__init__.py\", line 193, in reraise\n    raise self.last_attempt.result()\n  File \"C:\\Users\\drhan\\anaconda3\\envs\\micronsbinder\\lib\\concurrent\\futures\\_base.py\", line 428, in result\n    return self.__get_result()\n  File \"C:\\Users\\drhan\\anaconda3\\envs\\micronsbinder\\lib\\concurrent\\futures\\_base.py\", line 384, in __get_result\n    raise self._exception\n  File \"C:\\Users\\drhan\\anaconda3\\envs\\micronsbinder\\lib\\site-packages\\tenacity\\__init__.py\", line 407, in __call__\n    result = fn(*args, **kwargs)\n  File \"C:\\Users\\drhan\\anaconda3\\envs\\micronsbinder\\lib\\site-packages\\cloudfiles\\interfaces.py\", line 779, in get_file\n    resp = self.session.get(key, headers=headers)\n  File \"C:\\Users\\drhan\\anaconda3\\envs\\micronsbinder\\lib\\site-packages\\requests\\sessions.py\", line 600, in get\n    return self.request(\"GET\", url, **kwargs)\n  File \"C:\\Users\\drhan\\anaconda3\\envs\\micronsbinder\\lib\\site-packages\\requests\\sessions.py\", line 587, in request\n    resp = self.send(prep, **send_kwargs)\n  File \"C:\\Users\\drhan\\anaconda3\\envs\\micronsbinder\\lib\\site-packages\\requests\\sessions.py\", line 701, in send\n    r = adapter.send(request, **kwargs)\n  File \"C:\\Users\\drhan\\anaconda3\\envs\\micronsbinder\\lib\\site-packages\\requests\\adapters.py\", line 563, in send\n    raise SSLError(e, request=request)\nrequests.exceptions.SSLError: HTTPSConnectionPool(host='storage.googleapis.com', port=443): Max retries exceeded with url: /minnie65_pcg/ws/graphene_meshes_minnie3_v1/initial/4/6298628-0.shard (Caused by SSLError(SSLError(1, '[SSL: KRB5_S_TKT_NYV] unexpected eof while reading (_ssl.c:1091)')))\n\"\"\"",
      "\nThe above exception was the direct cause of the following exception:\n",
      "\u001b[1;31mSSLError\u001b[0m                                  Traceback (most recent call last)",
      "\u001b[1;32m~\\AppData\\Local\\Temp\\ipykernel_23884\\232115515.py\u001b[0m in \u001b[0;36m<module>\u001b[1;34m\u001b[0m\n\u001b[0;32m      4\u001b[0m     \u001b[0mmesh_start_time\u001b[0m \u001b[1;33m=\u001b[0m \u001b[0mtime\u001b[0m\u001b[1;33m.\u001b[0m\u001b[0mtime\u001b[0m\u001b[1;33m(\u001b[0m\u001b[1;33m)\u001b[0m\u001b[1;33m\u001b[0m\u001b[1;33m\u001b[0m\u001b[0m\n\u001b[0;32m      5\u001b[0m \u001b[1;33m\u001b[0m\u001b[0m\n\u001b[1;32m----> 6\u001b[1;33m     \u001b[0mdownloadmesh\u001b[0m \u001b[1;33m=\u001b[0m \u001b[0mmm\u001b[0m\u001b[1;33m.\u001b[0m\u001b[0mmesh\u001b[0m\u001b[1;33m(\u001b[0m\u001b[0mseg_id\u001b[0m\u001b[1;33m=\u001b[0m\u001b[0mcell_id_list\u001b[0m\u001b[1;33m[\u001b[0m\u001b[0mi\u001b[0m\u001b[1;33m]\u001b[0m\u001b[1;33m,\u001b[0m \u001b[0mremove_duplicate_vertices\u001b[0m\u001b[1;33m=\u001b[0m\u001b[1;32mTrue\u001b[0m\u001b[1;33m)\u001b[0m\u001b[1;33m\u001b[0m\u001b[1;33m\u001b[0m\u001b[0m\n\u001b[0m\u001b[0;32m      7\u001b[0m \u001b[1;33m\u001b[0m\u001b[0m\n\u001b[0;32m      8\u001b[0m     \u001b[0mmesh_elapsed_time\u001b[0m \u001b[1;33m=\u001b[0m \u001b[0mtime\u001b[0m\u001b[1;33m.\u001b[0m\u001b[0mtime\u001b[0m\u001b[1;33m(\u001b[0m\u001b[1;33m)\u001b[0m \u001b[1;33m-\u001b[0m \u001b[0mmesh_start_time\u001b[0m\u001b[1;33m\u001b[0m\u001b[1;33m\u001b[0m\u001b[0m\n",
      "\u001b[1;32m~\\anaconda3\\envs\\micronsbinder\\lib\\site-packages\\meshparty\\trimesh_io.py\u001b[0m in \u001b[0;36mmesh\u001b[1;34m(self, filename, seg_id, cache_mesh, merge_large_components, stitch_mesh_chunks, overwrite_merge_large_components, remove_duplicate_vertices, force_download, lod, voxel_scaling)\u001b[0m\n\u001b[0;32m    645\u001b[0m                 \u001b[1;32melse\u001b[0m\u001b[1;33m:\u001b[0m\u001b[1;33m\u001b[0m\u001b[1;33m\u001b[0m\u001b[0m\n\u001b[0;32m    646\u001b[0m                     cv_mesh_d = self.cv.mesh.get(\n\u001b[1;32m--> 647\u001b[1;33m                         seg_id,  remove_duplicate_vertices=remove_duplicate_vertices)\n\u001b[0m\u001b[0;32m    648\u001b[0m                 \u001b[1;32mif\u001b[0m \u001b[0misinstance\u001b[0m\u001b[1;33m(\u001b[0m\u001b[0mcv_mesh_d\u001b[0m\u001b[1;33m,\u001b[0m \u001b[1;33m(\u001b[0m\u001b[0mdict\u001b[0m\u001b[1;33m,\u001b[0m \u001b[0mcollections\u001b[0m\u001b[1;33m.\u001b[0m\u001b[0mdefaultdict\u001b[0m\u001b[1;33m)\u001b[0m\u001b[1;33m)\u001b[0m\u001b[1;33m:\u001b[0m\u001b[1;33m\u001b[0m\u001b[1;33m\u001b[0m\u001b[0m\n\u001b[0;32m    649\u001b[0m                     \u001b[0mcv_mesh\u001b[0m \u001b[1;33m=\u001b[0m \u001b[0mcv_mesh_d\u001b[0m\u001b[1;33m[\u001b[0m\u001b[0mseg_id\u001b[0m\u001b[1;33m]\u001b[0m\u001b[1;33m\u001b[0m\u001b[1;33m\u001b[0m\u001b[0m\n",
      "\u001b[1;32m~\\anaconda3\\envs\\micronsbinder\\lib\\site-packages\\cloudvolume\\datasource\\graphene\\mesh\\unsharded.py\u001b[0m in \u001b[0;36mget\u001b[1;34m(self, segids, remove_duplicate_vertices, fuse, bounding_box, bypass, use_byte_offsets, deduplicate_chunk_boundaries, allow_missing)\u001b[0m\n\u001b[0;32m    212\u001b[0m       \u001b[1;32mtry\u001b[0m\u001b[1;33m:\u001b[0m\u001b[1;33m\u001b[0m\u001b[1;33m\u001b[0m\u001b[0m\n\u001b[0;32m    213\u001b[0m         mesh, is_draco = self.download_segid(\n\u001b[1;32m--> 214\u001b[1;33m           \u001b[0mseg_id\u001b[0m\u001b[1;33m,\u001b[0m \u001b[0mbounding_box\u001b[0m\u001b[1;33m,\u001b[0m \u001b[0mbypass\u001b[0m\u001b[1;33m,\u001b[0m \u001b[0muse_byte_offsets\u001b[0m\u001b[1;33m\u001b[0m\u001b[1;33m\u001b[0m\u001b[0m\n\u001b[0m\u001b[0;32m    215\u001b[0m         )\n\u001b[0;32m    216\u001b[0m       \u001b[1;32mexcept\u001b[0m \u001b[0mexceptions\u001b[0m\u001b[1;33m:\u001b[0m\u001b[1;33m\u001b[0m\u001b[1;33m\u001b[0m\u001b[0m\n",
      "\u001b[1;32m~\\anaconda3\\envs\\micronsbinder\\lib\\site-packages\\cloudvolume\\datasource\\graphene\\mesh\\sharded.py\u001b[0m in \u001b[0;36mdownload_segid\u001b[1;34m(self, seg_id, bounding_box, bypass, use_byte_offsets)\u001b[0m\n\u001b[0;32m    326\u001b[0m       \u001b[0mmesh\u001b[0m \u001b[1;33m=\u001b[0m \u001b[0mself\u001b[0m\u001b[1;33m.\u001b[0m\u001b[0mget_meshes_on_bypass\u001b[0m\u001b[1;33m(\u001b[0m\u001b[0mseg_id\u001b[0m\u001b[1;33m)\u001b[0m\u001b[1;33m[\u001b[0m\u001b[0mseg_id\u001b[0m\u001b[1;33m]\u001b[0m\u001b[1;33m\u001b[0m\u001b[1;33m\u001b[0m\u001b[0m\n\u001b[0;32m    327\u001b[0m     \u001b[1;32melse\u001b[0m\u001b[1;33m:\u001b[0m\u001b[1;33m\u001b[0m\u001b[1;33m\u001b[0m\u001b[0m\n\u001b[1;32m--> 328\u001b[1;33m       \u001b[0mmeshes\u001b[0m \u001b[1;33m=\u001b[0m \u001b[0mself\u001b[0m\u001b[1;33m.\u001b[0m\u001b[0mget_meshes_via_manifest\u001b[0m\u001b[1;33m(\u001b[0m\u001b[0mseg_id\u001b[0m\u001b[1;33m,\u001b[0m \u001b[0mbounding_box\u001b[0m\u001b[1;33m,\u001b[0m \u001b[0muse_byte_offsets\u001b[0m\u001b[1;33m=\u001b[0m\u001b[0muse_byte_offsets\u001b[0m\u001b[1;33m)\u001b[0m\u001b[1;33m\u001b[0m\u001b[1;33m\u001b[0m\u001b[0m\n\u001b[0m\u001b[0;32m    329\u001b[0m       \u001b[0mmesh\u001b[0m \u001b[1;33m=\u001b[0m \u001b[0mself\u001b[0m\u001b[1;33m.\u001b[0m\u001b[0mstitch_multi_level_draco_mesh_fragments\u001b[0m\u001b[1;33m(\u001b[0m\u001b[0mmeshes\u001b[0m\u001b[1;33m,\u001b[0m \u001b[0mseg_id\u001b[0m\u001b[1;33m)\u001b[0m\u001b[1;33m\u001b[0m\u001b[1;33m\u001b[0m\u001b[0m\n\u001b[0;32m    330\u001b[0m \u001b[1;33m\u001b[0m\u001b[0m\n",
      "\u001b[1;32m~\\anaconda3\\envs\\micronsbinder\\lib\\site-packages\\cloudvolume\\datasource\\graphene\\mesh\\sharded.py\u001b[0m in \u001b[0;36mget_meshes_via_manifest\u001b[1;34m(self, seg_id, bounding_box, use_byte_offsets)\u001b[0m\n\u001b[0;32m    211\u001b[0m   \u001b[1;32mdef\u001b[0m \u001b[0mget_meshes_via_manifest\u001b[0m\u001b[1;33m(\u001b[0m\u001b[0mself\u001b[0m\u001b[1;33m,\u001b[0m \u001b[0mseg_id\u001b[0m\u001b[1;33m,\u001b[0m \u001b[0mbounding_box\u001b[0m\u001b[1;33m,\u001b[0m \u001b[0muse_byte_offsets\u001b[0m\u001b[1;33m)\u001b[0m\u001b[1;33m:\u001b[0m\u001b[1;33m\u001b[0m\u001b[1;33m\u001b[0m\u001b[0m\n\u001b[0;32m    212\u001b[0m     \u001b[1;32mif\u001b[0m \u001b[0muse_byte_offsets\u001b[0m\u001b[1;33m:\u001b[0m\u001b[1;33m\u001b[0m\u001b[1;33m\u001b[0m\u001b[0m\n\u001b[1;32m--> 213\u001b[1;33m       \u001b[1;32mreturn\u001b[0m \u001b[0mself\u001b[0m\u001b[1;33m.\u001b[0m\u001b[0mget_meshes_via_manifest_byte_offsets\u001b[0m\u001b[1;33m(\u001b[0m\u001b[0mseg_id\u001b[0m\u001b[1;33m,\u001b[0m \u001b[0mbounding_box\u001b[0m\u001b[1;33m)\u001b[0m\u001b[1;33m\u001b[0m\u001b[1;33m\u001b[0m\u001b[0m\n\u001b[0m\u001b[0;32m    214\u001b[0m     \u001b[1;32mreturn\u001b[0m \u001b[0mself\u001b[0m\u001b[1;33m.\u001b[0m\u001b[0mget_meshes_via_manifest_labels\u001b[0m\u001b[1;33m(\u001b[0m\u001b[0mseg_id\u001b[0m\u001b[1;33m,\u001b[0m \u001b[0mbounding_box\u001b[0m\u001b[1;33m)\u001b[0m\u001b[1;33m\u001b[0m\u001b[1;33m\u001b[0m\u001b[0m\n\u001b[0;32m    215\u001b[0m \u001b[1;33m\u001b[0m\u001b[0m\n",
      "\u001b[1;32m~\\anaconda3\\envs\\micronsbinder\\lib\\site-packages\\cloudvolume\\datasource\\graphene\\mesh\\sharded.py\u001b[0m in \u001b[0;36mget_meshes_via_manifest_byte_offsets\u001b[1;34m(self, seg_id, bounding_box)\u001b[0m\n\u001b[0;32m    189\u001b[0m       \u001b[0msecrets\u001b[0m\u001b[1;33m=\u001b[0m\u001b[0mself\u001b[0m\u001b[1;33m.\u001b[0m\u001b[0mconfig\u001b[0m\u001b[1;33m.\u001b[0m\u001b[0msecrets\u001b[0m\u001b[1;33m,\u001b[0m\u001b[1;33m\u001b[0m\u001b[1;33m\u001b[0m\u001b[0m\n\u001b[0;32m    190\u001b[0m       \u001b[0mparallel\u001b[0m\u001b[1;33m=\u001b[0m\u001b[0mself\u001b[0m\u001b[1;33m.\u001b[0m\u001b[0mconfig\u001b[0m\u001b[1;33m.\u001b[0m\u001b[0mparallel\u001b[0m\u001b[1;33m,\u001b[0m\u001b[1;33m\u001b[0m\u001b[1;33m\u001b[0m\u001b[0m\n\u001b[1;32m--> 191\u001b[1;33m     ).get(fetches)\n\u001b[0m\u001b[0;32m    192\u001b[0m     \u001b[0minitial_meshes\u001b[0m \u001b[1;33m=\u001b[0m \u001b[1;33m[\u001b[0m\u001b[1;33m]\u001b[0m\u001b[1;33m\u001b[0m\u001b[1;33m\u001b[0m\u001b[0m\n\u001b[0;32m    193\u001b[0m     \u001b[1;32mwhile\u001b[0m \u001b[0mfiles\u001b[0m\u001b[1;33m:\u001b[0m\u001b[1;33m\u001b[0m\u001b[1;33m\u001b[0m\u001b[0m\n",
      "\u001b[1;32m~\\anaconda3\\envs\\micronsbinder\\lib\\site-packages\\cloudfiles\\cloudfiles.py\u001b[0m in \u001b[0;36minner_decor\u001b[1;34m(*args, **kwargs)\u001b[0m\n\u001b[0;32m    111\u001b[0m       return parallel_execute(\n\u001b[0;32m    112\u001b[0m         \u001b[0mfn\u001b[0m\u001b[1;33m,\u001b[0m \u001b[0minput_value\u001b[0m\u001b[1;33m,\u001b[0m \u001b[0mparallel\u001b[0m\u001b[1;33m,\u001b[0m \u001b[0mtotal\u001b[0m\u001b[1;33m,\u001b[0m \u001b[0mprogress\u001b[0m\u001b[1;33m,\u001b[0m\u001b[1;33m\u001b[0m\u001b[1;33m\u001b[0m\u001b[0m\n\u001b[1;32m--> 113\u001b[1;33m         \u001b[0mdesc\u001b[0m\u001b[1;33m=\u001b[0m\u001b[0mdesc\u001b[0m\u001b[1;33m,\u001b[0m \u001b[0mreturns_list\u001b[0m\u001b[1;33m=\u001b[0m\u001b[0mreturns_list\u001b[0m\u001b[1;33m\u001b[0m\u001b[1;33m\u001b[0m\u001b[0m\n\u001b[0m\u001b[0;32m    114\u001b[0m       )\n\u001b[0;32m    115\u001b[0m \u001b[1;33m\u001b[0m\u001b[0m\n",
      "\u001b[1;32m~\\anaconda3\\envs\\micronsbinder\\lib\\site-packages\\cloudfiles\\cloudfiles.py\u001b[0m in \u001b[0;36mparallel_execute\u001b[1;34m(fn, inputs, parallel, total, progress, desc, returns_list)\u001b[0m\n\u001b[0;32m    153\u001b[0m   \u001b[1;32mtry\u001b[0m\u001b[1;33m:\u001b[0m\u001b[1;33m\u001b[0m\u001b[1;33m\u001b[0m\u001b[0m\n\u001b[0;32m    154\u001b[0m     \u001b[1;32mwith\u001b[0m \u001b[0mpathos\u001b[0m\u001b[1;33m.\u001b[0m\u001b[0mpools\u001b[0m\u001b[1;33m.\u001b[0m\u001b[0mProcessPool\u001b[0m\u001b[1;33m(\u001b[0m\u001b[0mparallel\u001b[0m\u001b[1;33m)\u001b[0m \u001b[1;32mas\u001b[0m \u001b[0mexecutor\u001b[0m\u001b[1;33m:\u001b[0m\u001b[1;33m\u001b[0m\u001b[1;33m\u001b[0m\u001b[0m\n\u001b[1;32m--> 155\u001b[1;33m       \u001b[1;32mfor\u001b[0m \u001b[0mres\u001b[0m \u001b[1;32min\u001b[0m \u001b[0mexecutor\u001b[0m\u001b[1;33m.\u001b[0m\u001b[0mimap\u001b[0m\u001b[1;33m(\u001b[0m\u001b[0mfn\u001b[0m\u001b[1;33m,\u001b[0m \u001b[0msip\u001b[0m\u001b[1;33m(\u001b[0m\u001b[0minputs\u001b[0m\u001b[1;33m,\u001b[0m \u001b[0mblock_size\u001b[0m\u001b[1;33m)\u001b[0m\u001b[1;33m)\u001b[0m\u001b[1;33m:\u001b[0m\u001b[1;33m\u001b[0m\u001b[1;33m\u001b[0m\u001b[0m\n\u001b[0m\u001b[0;32m    156\u001b[0m         \u001b[1;32mif\u001b[0m \u001b[0misinstance\u001b[0m\u001b[1;33m(\u001b[0m\u001b[0mres\u001b[0m\u001b[1;33m,\u001b[0m \u001b[0mint\u001b[0m\u001b[1;33m)\u001b[0m\u001b[1;33m:\u001b[0m\u001b[1;33m\u001b[0m\u001b[1;33m\u001b[0m\u001b[0m\n\u001b[0;32m    157\u001b[0m           \u001b[0mpbar\u001b[0m\u001b[1;33m.\u001b[0m\u001b[0mupdate\u001b[0m\u001b[1;33m(\u001b[0m\u001b[0mres\u001b[0m\u001b[1;33m)\u001b[0m\u001b[1;33m\u001b[0m\u001b[1;33m\u001b[0m\u001b[0m\n",
      "\u001b[1;32m~\\anaconda3\\envs\\micronsbinder\\lib\\site-packages\\multiprocess\\pool.py\u001b[0m in \u001b[0;36mnext\u001b[1;34m(self, timeout)\u001b[0m\n\u001b[0;32m    746\u001b[0m         \u001b[1;32mif\u001b[0m \u001b[0msuccess\u001b[0m\u001b[1;33m:\u001b[0m\u001b[1;33m\u001b[0m\u001b[1;33m\u001b[0m\u001b[0m\n\u001b[0;32m    747\u001b[0m             \u001b[1;32mreturn\u001b[0m \u001b[0mvalue\u001b[0m\u001b[1;33m\u001b[0m\u001b[1;33m\u001b[0m\u001b[0m\n\u001b[1;32m--> 748\u001b[1;33m         \u001b[1;32mraise\u001b[0m \u001b[0mvalue\u001b[0m\u001b[1;33m\u001b[0m\u001b[1;33m\u001b[0m\u001b[0m\n\u001b[0m\u001b[0;32m    749\u001b[0m \u001b[1;33m\u001b[0m\u001b[0m\n\u001b[0;32m    750\u001b[0m     \u001b[0m__next__\u001b[0m \u001b[1;33m=\u001b[0m \u001b[0mnext\u001b[0m                    \u001b[1;31m# XXX\u001b[0m\u001b[1;33m\u001b[0m\u001b[1;33m\u001b[0m\u001b[0m\n",
      "\u001b[1;31mSSLError\u001b[0m: None: Max retries exceeded with url: /minnie65_pcg/ws/graphene_meshes_minnie3_v1/initial/4/6298628-0.shard (Caused by None)"
     ]
    }
   ],
   "source": [
    "start_time = time.time()\n",
    "\n",
    "for i in tqdm(range(len(cell_id_list)), desc=\"Downloading Meshes\"):\n",
    "    mesh_start_time = time.time()\n",
    "    \n",
    "    downloadmesh = mm.mesh(seg_id=cell_id_list[i], remove_duplicate_vertices=True)\n",
    "    \n",
    "    mesh_elapsed_time = time.time() - mesh_start_time\n",
    "    minutes, seconds = divmod(mesh_elapsed_time, 60)\n",
    "    print(f\"Processed mesh for cell_id {cell_id_list[i]} in {int(minutes)} minutes and {int(seconds)} seconds\")\n",
    "\n",
    "total_elapsed_time = time.time() - start_time\n",
    "total_minutes, total_seconds = divmod(total_elapsed_time, 60)\n",
    "print(f\"Total processing time: {int(total_minutes)} minutes and {int(total_seconds)} seconds\")"
   ]
  },
  {
   "cell_type": "code",
   "execution_count": null,
   "id": "34baae7d",
   "metadata": {},
   "outputs": [],
   "source": [
    "# make a dictionary to hold the mesh file for each cell id in the list\n",
    "\n",
    "mesh_dictionary = {}\n",
    "for i in range(len(cell_id_list)):\n",
    "    mesh_file = os.path.join(mesh_dir, str(cell_id_list[i]) + '_0' + '.h5')\n",
    "    mesh_dictionary['cell_' + str(i)] = mm.mesh(filename = mesh_file)"
   ]
  },
  {
   "cell_type": "code",
   "execution_count": null,
   "id": "c8f07ae7",
   "metadata": {},
   "outputs": [],
   "source": [
    "mesh_dictionary"
   ]
  },
  {
   "cell_type": "code",
   "execution_count": null,
   "id": "bdb52de5",
   "metadata": {},
   "outputs": [],
   "source": [
    "cell_gran = 1000\n",
    "cell_opac = 1\n",
    "\n",
    "fig, ax = plt.subplots()\n",
    "\n",
    "for cellid in range(len(mesh_dictionary)):\n",
    "    cell_key = 'cell_' + str(cellid)\n",
    "    mesh = mesh_dictionary[cell_key]\n",
    "    random_color = np.random.rand(3,)\n",
    "    \n",
    "    ax.scatter(\n",
    "        mesh.vertices[::cell_gran, 0],\n",
    "        mesh.vertices[::cell_gran, 1],\n",
    "        s=1, \n",
    "        alpha=cell_opac, \n",
    "        color=random_color\n",
    "    )\n",
    "\n",
    "ax.invert_yaxis()  # Reverse the y-axis\n",
    "\n",
    "plt.show()\n"
   ]
  },
  {
   "cell_type": "code",
   "execution_count": null,
   "id": "53d3a829",
   "metadata": {},
   "outputs": [],
   "source": [
    "cell_gran = 1000\n",
    "cell_opac = 1\n",
    "\n",
    "fig = go.Figure()\n",
    "\n",
    "for cellid in range(len(mesh_dictionary)):\n",
    "    cell_key = 'cell_' + str(cellid)\n",
    "    mesh = mesh_dictionary[cell_key]\n",
    "    random_color = np.random.rand(3,)\n",
    "    \n",
    "    fig.add_trace(go.Scatter3d(\n",
    "        x=mesh.vertices[::cell_gran, 0],\n",
    "        y=mesh.vertices[::cell_gran, 1],\n",
    "        z=mesh.vertices[::cell_gran, 2],\n",
    "        mode='markers',\n",
    "        marker=dict(size=1, opacity=cell_opac, color='rgb({}, {}, {})'.format(*random_color)),\n",
    "        hoverinfo='none',\n",
    "        showlegend=False\n",
    "    ))\n",
    "\n",
    "# Set the camera view\n",
    "camera = dict(\n",
    "    up=dict(x=0, y=0, z=1),\n",
    "    center=dict(x=0, y=0, z=0),\n",
    "    eye=dict(x=0, y=0.5, z=1)  # Adjust these values to match the view in your screenshot\n",
    ")\n",
    "\n",
    "fig.update_layout(\n",
    "    scene=dict(\n",
    "        xaxis=dict(autorange='reversed'),  # Reverse the x-axis\n",
    "        aspectmode='manual',\n",
    "        aspectratio=dict(x=1, y=1, z=0.4),  # Compress the z-axis\n",
    "        camera=camera\n",
    "    ),\n",
    "     dragmode='orbit'  # Set default interaction mode to orbital rotation\n",
    ")\n",
    "\n",
    "fig.show()\n"
   ]
  },
  {
   "cell_type": "markdown",
   "id": "595ba71a",
   "metadata": {},
   "source": [
    "Do not run the following if there are lot of meshes or large meshes (such as astrocytes)"
   ]
  },
  {
   "cell_type": "code",
   "execution_count": null,
   "id": "6130cdd4",
   "metadata": {},
   "outputs": [],
   "source": [
    "# opacity and color settings for cell membrane \n",
    "cell_opac = 0.4\n",
    "highlight_opac = 0.4\n",
    "highlight_color = (0.2, 0.4, 0.7)\n",
    "\n",
    "# cell membrane mesh\n",
    "\n",
    "mesh_actor = {}\n",
    "for i in range(len(mesh_dictionary)):\n",
    "    random_color = list(np.random.random(size=3))\n",
    "    mesh_actor['cell_' + str(i)] = trimesh_vtk.mesh_actor(mesh_dictionary['cell_'+str(i)], opacity=cell_opac, color=(random_color))\n",
    "\n",
    "locals().update(mesh_actor)\n",
    "\n",
    "# increase cell_i opacity to highlight it against other actors\n",
    "cellnum = 0\n",
    "mesh_actor['cell_' + str(cellnum)] = trimesh_vtk.mesh_actor(mesh_dictionary['cell_' + str(cellnum)], opacity=highlight_opac, color=(highlight_color))\n",
    "locals().update(mesh_actor)\n",
    "\n",
    "#creating a camera object and defining the view\n",
    "camera = trimesh_vtk.oriented_camera(mesh_dictionary['cell_'+str(cellnum)].centroid, backoff=1500)\n",
    "\n",
    "#render the actors, will open a pop up python window\n",
    "trimesh_vtk.render_actors(mesh_actor.values(), camera=camera)"
   ]
  },
  {
   "cell_type": "code",
   "execution_count": null,
   "id": "243cefb2",
   "metadata": {},
   "outputs": [],
   "source": [
    "# Convert each integer to a string\n",
    "str_list = [str(i) for i in cell_id_list]\n",
    "\n",
    "# Join the list into a single string with underscores\n",
    "str_list_for_filename = \"_\".join(str_list)\n",
    "\n",
    "# type(str_list_for_filename)"
   ]
  },
  {
   "cell_type": "code",
   "execution_count": null,
   "id": "46e23444",
   "metadata": {},
   "outputs": [],
   "source": [
    "# save image to disk\n",
    "# uncomment to save\n",
    "\n",
    "# camera = trimesh_vtk.oriented_camera(mesh.centroid, backoff=1500) # modify backoff accordingly\n",
    "\n",
    "# trimesh_vtk.render_actors(mesh_actor.values(),\n",
    "#                           filename='vtk_images/'+ str_list_for_filename +'.png',\n",
    "#                           do_save=True,\n",
    "#                           scale=6,\n",
    "#                           camera=camera\n",
    "#                          )"
   ]
  },
  {
   "cell_type": "code",
   "execution_count": null,
   "id": "004283b7",
   "metadata": {},
   "outputs": [],
   "source": []
  }
 ],
 "metadata": {
  "kernelspec": {
   "display_name": "Python 3 (ipykernel)",
   "language": "python",
   "name": "python3"
  },
  "language_info": {
   "codemirror_mode": {
    "name": "ipython",
    "version": 3
   },
   "file_extension": ".py",
   "mimetype": "text/x-python",
   "name": "python",
   "nbconvert_exporter": "python",
   "pygments_lexer": "ipython3",
   "version": "3.7.12"
  }
 },
 "nbformat": 4,
 "nbformat_minor": 5
}
