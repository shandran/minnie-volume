{
 "cells": [
  {
   "cell_type": "code",
   "execution_count": 1,
   "id": "cb6436a0",
   "metadata": {},
   "outputs": [],
   "source": [
    "import pandas as pd\n",
    "import numpy as np\n",
    "import os\n",
    "import trimesh\n",
    "from meshparty import trimesh_io, trimesh_vtk, skeleton, utils\n",
    "import vtk\n",
    "import matplotlib.pyplot as plt\n",
    "import datetime"
   ]
  },
  {
   "cell_type": "code",
   "execution_count": 2,
   "id": "7ac2ec0c",
   "metadata": {},
   "outputs": [
    {
     "name": "stdout",
     "output_type": "stream",
     "text": [
      "number of astros: 8\n",
      "number of neurons: 8\n",
      "number of vascular: 1\n"
     ]
    }
   ],
   "source": [
    "# Load astrocyte cellids into a list\n",
    "astro_list = [864691136194086870, 864691134964446239, 864691135012524790, 864691135256138671, 864691135348239831, 864691135809446092, 864691135880405261, 864691136023933241]\n",
    "neuro_list = [864691135269913253, 864691135337851366, 864691135341421745, 864691135386363265, 864691135497750291, 864691135657783170, 864691135837182867, 864691136194008022]\n",
    "vasc_list = [864691136330394007]\n",
    "\n",
    "print(f'number of astros:', len(astro_list))\n",
    "print(f'number of neurons:', len(neuro_list))\n",
    "print(f'number of vascular:', len(vasc_list))"
   ]
  },
  {
   "cell_type": "code",
   "execution_count": 3,
   "id": "ad4d01a6",
   "metadata": {},
   "outputs": [],
   "source": [
    "mesh_dir = 'data/cell_meshes/dec/' # or change to your desired folder\n",
    "seg_source = \"precomputed://gs://iarpa_microns/minnie/minnie65/seg\"\n",
    "mm = trimesh_io.MeshMeta(cv_path=seg_source,\n",
    "                         disk_cache_path=mesh_dir, \n",
    "                         cache_size=20)"
   ]
  },
  {
   "cell_type": "code",
   "execution_count": 4,
   "id": "e8c5292c",
   "metadata": {},
   "outputs": [],
   "source": [
    "# Combine all the lists into a dictionary with their respective prefixes\n",
    "prefix_dict = {\n",
    "    'astro_': astro_list,\n",
    "    'neuro_': neuro_list,\n",
    "    'vasc_': vasc_list\n",
    "}\n",
    "\n",
    "# Make a dictionary to hold the mesh file for each cell id in the lists\n",
    "mesh_dictionary = {}\n",
    "for prefix, cell_list in prefix_dict.items():\n",
    "    for cellid in cell_list:\n",
    "        mesh_file = os.path.join(mesh_dir, str(cellid) + '_0.ply')\n",
    "        mesh_dictionary[prefix + str(cellid)] = trimesh.load_mesh(mesh_file)\n"
   ]
  },
  {
   "cell_type": "code",
   "execution_count": 5,
   "id": "e3d088dd",
   "metadata": {
    "scrolled": true
   },
   "outputs": [
    {
     "data": {
      "text/plain": [
       "17"
      ]
     },
     "execution_count": 5,
     "metadata": {},
     "output_type": "execute_result"
    }
   ],
   "source": [
    "len(mesh_dictionary)"
   ]
  },
  {
   "cell_type": "code",
   "execution_count": 6,
   "id": "25d783ae",
   "metadata": {
    "scrolled": true
   },
   "outputs": [
    {
     "name": "stdout",
     "output_type": "stream",
     "text": [
      "setting up renderer\n",
      "done setting up\n",
      "actors added\n",
      "camera set\n",
      "render done\n",
      "finalizing..\n"
     ]
    },
    {
     "data": {
      "text/plain": [
       "<vtkmodules.vtkRenderingOpenGL2.vtkOpenGLRenderer(0x000002593B229F90) at 0x00000259402882E8>"
      ]
     },
     "execution_count": 6,
     "metadata": {},
     "output_type": "execute_result"
    }
   ],
   "source": [
    "# Opacity settings for each cell type\n",
    "astro_opac = 0.15\n",
    "neuro_opac = 0.5\n",
    "vasc_opac = 0.05\n",
    "\n",
    "# Define the opacity for each prefix\n",
    "opacity_dict = {\n",
    "    'astro_': astro_opac,\n",
    "    'neuro_': neuro_opac,\n",
    "    'vasc_': vasc_opac\n",
    "}\n",
    "\n",
    "# Creating mesh actors with opacity and random colors\n",
    "mesh_actor = {}\n",
    "centroids = []\n",
    "for prefix, cell_list in prefix_dict.items():\n",
    "    for cellid in cell_list:\n",
    "        cell_key = prefix + str(cellid)\n",
    "        if cell_key in mesh_dictionary:\n",
    "            random_color = list(np.random.random(size=3))\n",
    "            cell_opac = opacity_dict[prefix]\n",
    "            mesh_actor[cell_key] = trimesh_vtk.mesh_actor(mesh_dictionary[cell_key], opacity=cell_opac, color=random_color)\n",
    "            centroids.append(mesh_dictionary[cell_key].centroid)\n",
    "\n",
    "locals().update(mesh_actor)\n",
    "\n",
    "# Calculate global mean centroid\n",
    "if centroids:\n",
    "    global_mean_centroid = np.mean(centroids, axis=0)\n",
    "else:\n",
    "    global_mean_centroid = np.array([0, 0, 0])\n",
    "    print(\"No centroids available for mean calculation.\")\n",
    "\n",
    "# Creating a camera object and defining the view\n",
    "camera = trimesh_vtk.oriented_camera(global_mean_centroid, backoff=900)\n",
    "\n",
    "# Render the actors, will open a pop-up Python window\n",
    "trimesh_vtk.render_actors(mesh_actor.values(), camera=camera)\n"
   ]
  },
  {
   "cell_type": "code",
   "execution_count": null,
   "id": "4b0d2eca",
   "metadata": {},
   "outputs": [],
   "source": [
    "# save image to disk\n",
    "\n",
    "save_dir = 'vtk_images/'\n",
    "base_name = 'minnie_astro_neuro_vasc_'\n",
    "extension = 'png'\n",
    "\n",
    "date_time_stamp = datetime.datetime.now().strftime(\"%Y_%m_%d_%H%M_%S\")\n",
    "filename = f\"{save_dir}{base_name}_{date_time_stamp}.{extension}\"\n",
    "\n",
    "# uncomment to save\n",
    "\n",
    "# trimesh_vtk.render_actors(mesh_actor.values(),\n",
    "#                           filename=filename,\n",
    "#                           do_save=True,\n",
    "#                           scale=6,\n",
    "#                           camera=camera\n",
    "#                          )"
   ]
  },
  {
   "cell_type": "code",
   "execution_count": null,
   "id": "b7ab1df0",
   "metadata": {},
   "outputs": [],
   "source": []
  }
 ],
 "metadata": {
  "kernelspec": {
   "display_name": "Python 3 (ipykernel)",
   "language": "python",
   "name": "python3"
  },
  "language_info": {
   "codemirror_mode": {
    "name": "ipython",
    "version": 3
   },
   "file_extension": ".py",
   "mimetype": "text/x-python",
   "name": "python",
   "nbconvert_exporter": "python",
   "pygments_lexer": "ipython3",
   "version": "3.7.12"
  }
 },
 "nbformat": 4,
 "nbformat_minor": 5
}
