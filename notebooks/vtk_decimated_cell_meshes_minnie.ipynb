{
 "cells": [
  {
   "cell_type": "code",
   "execution_count": 1,
   "id": "cb6436a0",
   "metadata": {},
   "outputs": [],
   "source": [
    "import pandas as pd\n",
    "import numpy as np\n",
    "import os\n",
    "import trimesh\n",
    "from meshparty import trimesh_io, trimesh_vtk, skeleton, utils\n",
    "import vtk\n",
    "import matplotlib.pyplot as plt"
   ]
  },
  {
   "cell_type": "code",
   "execution_count": 2,
   "id": "7ac2ec0c",
   "metadata": {},
   "outputs": [
    {
     "name": "stdout",
     "output_type": "stream",
     "text": [
      "number of astros: 6\n",
      "number of neurons: 8\n",
      "number of vascular: 1\n"
     ]
    }
   ],
   "source": [
    "# Load astrocyte cellids into a list\n",
    "astro_list = [864691134964446239, 864691135012524790, 864691135256138671, 864691135348239831, 864691135880405261, 864691136023933241]\n",
    "neuro_list = [864691135269913253, 864691135337851366, 864691135341421745, 864691135386363265, 864691135497750291, 864691135657783170, 864691135837182867, 864691136194008022]\n",
    "vasc_list = [864691136330394007]\n",
    "\n",
    "print(f'number of astros:', len(astro_list))\n",
    "print(f'number of neurons:', len(neuro_list))\n",
    "print(f'number of vascular:', len(vasc_list))"
   ]
  },
  {
   "cell_type": "code",
   "execution_count": 3,
   "id": "ad4d01a6",
   "metadata": {},
   "outputs": [],
   "source": [
    "mesh_dir = 'data/cell_meshes/dec/' # or change to your desired folder\n",
    "seg_source = \"precomputed://gs://h01-release/data/20210601/c3\"\n",
    "mm = trimesh_io.MeshMeta(cv_path=seg_source,\n",
    "                         disk_cache_path=mesh_dir, \n",
    "                         cache_size=20)"
   ]
  },
  {
   "cell_type": "code",
   "execution_count": 4,
   "id": "d289d7f5",
   "metadata": {},
   "outputs": [],
   "source": [
    "# make a dictionary to hold the mesh file for each cell id in the list\n",
    "\n",
    "mesh_dictionary = {}\n",
    "for cellid in cell_list:\n",
    "    mesh_file = os.path.join(mesh_dir, str(cellid) + '_0.ply')\n",
    "    mesh_dictionary['cell_' + str(cellid)] = trimesh.load_mesh(mesh_file)"
   ]
  },
  {
   "cell_type": "code",
   "execution_count": 5,
   "id": "e3d088dd",
   "metadata": {},
   "outputs": [
    {
     "data": {
      "text/plain": [
       "29"
      ]
     },
     "execution_count": 5,
     "metadata": {},
     "output_type": "execute_result"
    }
   ],
   "source": [
    "len(mesh_dictionary)"
   ]
  },
  {
   "cell_type": "code",
   "execution_count": 6,
   "id": "123335ef",
   "metadata": {},
   "outputs": [
    {
     "name": "stdout",
     "output_type": "stream",
     "text": [
      "setting up renderer\n",
      "done setting up\n",
      "actors added\n",
      "camera set\n",
      "render done\n",
      "finalizing..\n"
     ]
    },
    {
     "data": {
      "text/plain": [
       "<vtkmodules.vtkRenderingOpenGL2.vtkOpenGLRenderer(0x0000016986019770) at 0x000001698A429D08>"
      ]
     },
     "execution_count": 6,
     "metadata": {},
     "output_type": "execute_result"
    }
   ],
   "source": [
    "cell_opac = 0.5\n",
    "\n",
    "# Creating mesh actors with opacity and random colors\n",
    "mesh_actor = {}\n",
    "for cellid in cell_list:\n",
    "    cell_key = 'cell_' + str(cellid)\n",
    "    if cell_key in mesh_dictionary:\n",
    "        random_color = list(np.random.random(size=3))\n",
    "        mesh_actor[cell_key] = trimesh_vtk.mesh_actor(mesh_dictionary[cell_key], opacity=cell_opac, color=random_color)\n",
    "\n",
    "locals().update(mesh_actor)\n",
    "\n",
    "# Creating a camera object and defining the view\n",
    "if 'cell_' + str(cell_list[0]) in mesh_dictionary:\n",
    "    camera = trimesh_vtk.oriented_camera(mesh_dictionary['cell_' + str(cell_list[0])].centroid, backoff=400)\n",
    "else:\n",
    "    print(f\"First cell key cell_{cell_list[0]} not found in mesh dictionary.\")\n",
    "\n",
    "# Render the actors, will open a pop-up Python window\n",
    "trimesh_vtk.render_actors(mesh_actor.values(), camera=camera)\n"
   ]
  },
  {
   "cell_type": "markdown",
   "id": "75bb918a",
   "metadata": {},
   "source": [
    "# gradient rendering"
   ]
  },
  {
   "cell_type": "markdown",
   "id": "ee209967",
   "metadata": {},
   "source": [
    "## color gradient linear"
   ]
  },
  {
   "cell_type": "code",
   "execution_count": 7,
   "id": "8cd98802",
   "metadata": {},
   "outputs": [
    {
     "name": "stdout",
     "output_type": "stream",
     "text": [
      "setting up renderer\n",
      "done setting up\n",
      "actors added\n",
      "camera set\n",
      "render done\n",
      "finalizing..\n"
     ]
    },
    {
     "data": {
      "text/plain": [
       "<vtkmodules.vtkRenderingOpenGL2.vtkOpenGLRenderer(0x000001698601B0B0) at 0x00000169FE52AB28>"
      ]
     },
     "execution_count": 7,
     "metadata": {},
     "output_type": "execute_result"
    }
   ],
   "source": [
    "# import vtk\n",
    "# import numpy as np\n",
    "# from meshparty import trimesh_io, trimesh_vtk, skeleton, utils\n",
    "\n",
    "cell_opac = 0.5\n",
    "\n",
    "# Define a function to calculate the opacity based on distance\n",
    "def calculate_opacity(distances, max_distance, gradient='linear'):\n",
    "    if gradient == 'linear':\n",
    "        opacities = 1 - (distances / max_distance)\n",
    "    elif gradient == 'exponential':\n",
    "        opacities = np.exp(-distances / max_distance)\n",
    "    else:\n",
    "        raise ValueError(\"Unsupported gradient type. Use 'linear' or 'exponential'.\")\n",
    "    return opacities\n",
    "\n",
    "# Create mesh actors with gradient opacity\n",
    "mesh_actor = {}\n",
    "for cellid in cell_list:\n",
    "    cell_key = 'cell_' + str(cellid)\n",
    "    if cell_key in mesh_dictionary:\n",
    "        mesh = mesh_dictionary[cell_key]\n",
    "        centroid = mesh.centroid\n",
    "        distances = np.linalg.norm(mesh.vertices - centroid, axis=1)\n",
    "        max_distance = np.max(distances)\n",
    "        opacities = calculate_opacity(distances, max_distance, gradient='linear')\n",
    "        \n",
    "        # Create a vtkPoints object\n",
    "        points = vtk.vtkPoints()\n",
    "        for vertex in mesh.vertices:\n",
    "            points.InsertNextPoint(vertex[0], vertex[1], vertex[2])\n",
    "        \n",
    "        # Create a vtkCellArray object\n",
    "        cells = vtk.vtkCellArray()\n",
    "        for face in mesh.faces:\n",
    "            cells.InsertNextCell(3, face)\n",
    "        \n",
    "        # Create a vtkPolyData object\n",
    "        poly_data = vtk.vtkPolyData()\n",
    "        poly_data.SetPoints(points)\n",
    "        poly_data.SetPolys(cells)\n",
    "        \n",
    "        # Create a vtkFloatArray to hold the opacities\n",
    "        opacity_array = vtk.vtkFloatArray()\n",
    "        opacity_array.SetName(\"Opacity\")\n",
    "        for opacity in opacities:\n",
    "            opacity_array.InsertNextValue(opacity)\n",
    "        \n",
    "        # Add the opacity array to the vtkPolyData\n",
    "        poly_data.GetPointData().SetScalars(opacity_array)\n",
    "        \n",
    "        # Create a vtkPolyDataMapper\n",
    "        mapper = vtk.vtkPolyDataMapper()\n",
    "        mapper.SetInputData(poly_data)\n",
    "        mapper.ScalarVisibilityOn()\n",
    "        mapper.SetScalarModeToUsePointFieldData()\n",
    "        mapper.SelectColorArray(\"Opacity\")\n",
    "        \n",
    "        # Create a vtkActor\n",
    "        actor = vtk.vtkActor()\n",
    "        actor.SetMapper(mapper)\n",
    "        \n",
    "        # Set random color\n",
    "        random_color = list(np.random.random(size=3))\n",
    "        actor.GetProperty().SetColor(random_color)\n",
    "        \n",
    "        mesh_actor[cell_key] = actor\n",
    "\n",
    "# Create a camera object and define the view\n",
    "if 'cell_' + str(cell_list[0]) in mesh_dictionary:\n",
    "    camera = trimesh_vtk.oriented_camera(mesh_dictionary['cell_' + str(cell_list[0])].centroid, backoff=400)\n",
    "else:\n",
    "    print(f\"First cell key cell_{cell_list[0]} not found in mesh dictionary.\")\n",
    "\n",
    "# Render the actors, will open a pop-up Python window\n",
    "trimesh_vtk.render_actors(mesh_actor.values(), camera=camera)\n"
   ]
  },
  {
   "cell_type": "markdown",
   "id": "2eb4cc50",
   "metadata": {},
   "source": [
    "## color gradient exponential"
   ]
  },
  {
   "cell_type": "code",
   "execution_count": 8,
   "id": "f95faf5d",
   "metadata": {},
   "outputs": [
    {
     "name": "stdout",
     "output_type": "stream",
     "text": [
      "setting up renderer\n",
      "done setting up\n",
      "actors added\n",
      "camera set\n",
      "render done\n",
      "finalizing..\n"
     ]
    },
    {
     "data": {
      "text/plain": [
       "<vtkmodules.vtkRenderingOpenGL2.vtkOpenGLRenderer(0x0000016A33D34BE0) at 0x00000169895DBC48>"
      ]
     },
     "execution_count": 8,
     "metadata": {},
     "output_type": "execute_result"
    }
   ],
   "source": [
    "# import vtk\n",
    "# import numpy as np\n",
    "# from meshparty import trimesh_io, trimesh_vtk, skeleton, utils\n",
    "\n",
    "cell_opac = 0.5\n",
    "\n",
    "# Define a function to calculate the opacity based on distance\n",
    "def calculate_opacity(distances, max_distance, gradient='linear'):\n",
    "    if gradient == 'linear':\n",
    "        opacities = 1 - (distances / max_distance)\n",
    "    elif gradient == 'exponential':\n",
    "        k = 5  # You can adjust this constant to control the rate of decay\n",
    "        opacities = np.exp(-k * (distances / max_distance))\n",
    "    else:\n",
    "        raise ValueError(\"Unsupported gradient type. Use 'linear' or 'exponential'.\")\n",
    "    return opacities\n",
    "\n",
    "# Create mesh actors with gradient opacity\n",
    "mesh_actor = {}\n",
    "for cellid in cell_list:\n",
    "    cell_key = 'cell_' + str(cellid)\n",
    "    if cell_key in mesh_dictionary:\n",
    "        mesh = mesh_dictionary[cell_key]\n",
    "        centroid = mesh.centroid\n",
    "        distances = np.linalg.norm(mesh.vertices - centroid, axis=1)\n",
    "        max_distance = np.max(distances)\n",
    "        opacities = calculate_opacity(distances, max_distance, gradient='exponential')\n",
    "        \n",
    "        # Create a vtkPoints object\n",
    "        points = vtk.vtkPoints()\n",
    "        for vertex in mesh.vertices:\n",
    "            points.InsertNextPoint(vertex[0], vertex[1], vertex[2])\n",
    "        \n",
    "        # Create a vtkCellArray object\n",
    "        cells = vtk.vtkCellArray()\n",
    "        for face in mesh.faces:\n",
    "            cells.InsertNextCell(3, face)\n",
    "        \n",
    "        # Create a vtkPolyData object\n",
    "        poly_data = vtk.vtkPolyData()\n",
    "        poly_data.SetPoints(points)\n",
    "        poly_data.SetPolys(cells)\n",
    "        \n",
    "        # Create a vtkFloatArray to hold the opacities\n",
    "        opacity_array = vtk.vtkFloatArray()\n",
    "        opacity_array.SetName(\"Opacity\")\n",
    "        for opacity in opacities:\n",
    "            opacity_array.InsertNextValue(opacity)\n",
    "        \n",
    "        # Add the opacity array to the vtkPolyData\n",
    "        poly_data.GetPointData().SetScalars(opacity_array)\n",
    "        \n",
    "        # Create a vtkPolyDataMapper\n",
    "        mapper = vtk.vtkPolyDataMapper()\n",
    "        mapper.SetInputData(poly_data)\n",
    "        mapper.ScalarVisibilityOn()\n",
    "        mapper.SetScalarModeToUsePointFieldData()\n",
    "        mapper.SelectColorArray(\"Opacity\")\n",
    "        \n",
    "        # Create a vtkActor\n",
    "        actor = vtk.vtkActor()\n",
    "        actor.SetMapper(mapper)\n",
    "        \n",
    "        # Set random color\n",
    "        random_color = list(np.random.random(size=3))\n",
    "        actor.GetProperty().SetColor(random_color)\n",
    "        \n",
    "        mesh_actor[cell_key] = actor\n",
    "\n",
    "# Create a camera object and define the view\n",
    "if 'cell_' + str(cell_list[0]) in mesh_dictionary:\n",
    "    camera = trimesh_vtk.oriented_camera(mesh_dictionary['cell_' + str(cell_list[0])].centroid, backoff=400)\n",
    "else:\n",
    "    print(f\"First cell key cell_{cell_list[0]} not found in mesh dictionary.\")\n",
    "\n",
    "# Render the actors, will open a pop-up Python window\n",
    "trimesh_vtk.render_actors(mesh_actor.values(), camera=camera)\n"
   ]
  },
  {
   "cell_type": "markdown",
   "id": "0dcddd50",
   "metadata": {},
   "source": [
    "## opacity gradient"
   ]
  },
  {
   "cell_type": "code",
   "execution_count": 9,
   "id": "00b0e4b3",
   "metadata": {},
   "outputs": [
    {
     "name": "stdout",
     "output_type": "stream",
     "text": [
      "setting up renderer\n",
      "done setting up\n",
      "actors added\n",
      "camera set\n",
      "render done\n",
      "finalizing..\n"
     ]
    },
    {
     "data": {
      "text/plain": [
       "<vtkmodules.vtkRenderingOpenGL2.vtkOpenGLRenderer(0x0000016A33D35230) at 0x00000169FE52AA68>"
      ]
     },
     "execution_count": 9,
     "metadata": {},
     "output_type": "execute_result"
    }
   ],
   "source": [
    "# import vtk\n",
    "# import numpy as np\n",
    "# from meshparty import trimesh_io, trimesh_vtk, skeleton, utils\n",
    "\n",
    "# cell_opac = 0.5\n",
    "max_opac = 0.1\n",
    "min_opac = 0.05\n",
    "\n",
    "# Define a function to calculate the opacity based on distance\n",
    "def calculate_opacity(distances, max_distance, max_opac, min_opac, gradient='linear'):\n",
    "    if gradient == 'linear':\n",
    "        opacities = min_opac + (max_opac - min_opac) * (1 - (distances / max_distance))\n",
    "    elif gradient == 'exponential':\n",
    "        k = 5  # You can adjust this constant to control the rate of decay\n",
    "        opacities = min_opac + (max_opac - min_opac) * np.exp(-k * (distances / max_distance))\n",
    "    else:\n",
    "        raise ValueError(\"Unsupported gradient type. Use 'linear' or 'exponential'.\")\n",
    "    return opacities\n",
    "\n",
    "# Create mesh actors with gradient opacity\n",
    "mesh_actor = {}\n",
    "for cellid in cell_list:\n",
    "    cell_key = 'cell_' + str(cellid)\n",
    "    if cell_key in mesh_dictionary:\n",
    "        mesh = mesh_dictionary[cell_key]\n",
    "        centroid = mesh.centroid\n",
    "        distances = np.linalg.norm(mesh.vertices - centroid, axis=1)\n",
    "        max_distance = np.max(distances)\n",
    "        opacities = calculate_opacity(distances, max_distance, max_opac, min_opac, gradient='linear')\n",
    "        \n",
    "        # Create a vtkPoints object\n",
    "        points = vtk.vtkPoints()\n",
    "        for vertex in mesh.vertices:\n",
    "            points.InsertNextPoint(vertex[0], vertex[1], vertex[2])\n",
    "        \n",
    "        # Create a vtkCellArray object\n",
    "        cells = vtk.vtkCellArray()\n",
    "        for face in mesh.faces:\n",
    "            cells.InsertNextCell(3, face)\n",
    "        \n",
    "        # Create a vtkPolyData object\n",
    "        poly_data = vtk.vtkPolyData()\n",
    "        poly_data.SetPoints(points)\n",
    "        poly_data.SetPolys(cells)\n",
    "        \n",
    "        # Create a vtkFloatArray to hold the distances (to be used as scalars)\n",
    "        distance_array = vtk.vtkFloatArray()\n",
    "        distance_array.SetName(\"Distance\")\n",
    "        for distance in distances:\n",
    "            distance_array.InsertNextValue(distance)\n",
    "        \n",
    "        # Add the distance array to the vtkPolyData\n",
    "        poly_data.GetPointData().SetScalars(distance_array)\n",
    "        \n",
    "        # Create a lookup table to map distances to opacities\n",
    "        lookup_table = vtk.vtkLookupTable()\n",
    "        lookup_table.SetTableRange(0, max_distance)\n",
    "        lookup_table.SetNumberOfTableValues(256)\n",
    "        lookup_table.Build()\n",
    "        \n",
    "        for i in range(256):\n",
    "            value = i / 255.0\n",
    "            opacity = min_opac + (max_opac - min_opac) * (1 - value)\n",
    "            color = [1.0, 0.0, 0.0, opacity]  # You can adjust the color as needed\n",
    "            lookup_table.SetTableValue(i, color)\n",
    "        \n",
    "        # Create a vtkPolyDataMapper\n",
    "        mapper = vtk.vtkPolyDataMapper()\n",
    "        mapper.SetInputData(poly_data)\n",
    "        mapper.SetLookupTable(lookup_table)\n",
    "        mapper.UseLookupTableScalarRangeOn()\n",
    "        \n",
    "        # Create a vtkActor\n",
    "        actor = vtk.vtkActor()\n",
    "        actor.SetMapper(mapper)\n",
    "        \n",
    "        # Set random color (this will be overridden by the lookup table)\n",
    "        random_color = list(np.random.random(size=3))\n",
    "        actor.GetProperty().SetColor(random_color)\n",
    "        \n",
    "        mesh_actor[cell_key] = actor\n",
    "\n",
    "# Create a camera object and define the view\n",
    "if 'cell_' + str(cell_list[0]) in mesh_dictionary:\n",
    "    camera = trimesh_vtk.oriented_camera(mesh_dictionary['cell_' + str(cell_list[0])].centroid, backoff=400)\n",
    "else:\n",
    "    print(f\"First cell key cell_{cell_list[0]} not found in mesh dictionary.\")\n",
    "\n",
    "# Render the actors, will open a pop-up Python window\n",
    "trimesh_vtk.render_actors(mesh_actor.values(), camera=camera)\n"
   ]
  },
  {
   "cell_type": "markdown",
   "id": "7e4181be",
   "metadata": {},
   "source": [
    "## gradient opacity and colormap "
   ]
  },
  {
   "cell_type": "code",
   "execution_count": 10,
   "id": "290dfcf0",
   "metadata": {},
   "outputs": [
    {
     "name": "stdout",
     "output_type": "stream",
     "text": [
      "setting up renderer\n",
      "done setting up\n",
      "actors added\n",
      "camera set\n",
      "render done\n",
      "finalizing..\n"
     ]
    },
    {
     "data": {
      "text/plain": [
       "<vtkmodules.vtkRenderingOpenGL2.vtkOpenGLRenderer(0x0000016A33D32C50) at 0x000001698A44A3A8>"
      ]
     },
     "execution_count": 10,
     "metadata": {},
     "output_type": "execute_result"
    }
   ],
   "source": [
    "# import vtk\n",
    "# import numpy as np\n",
    "# from meshparty import trimesh_io, trimesh_vtk, skeleton, utils\n",
    "# import matplotlib.pyplot as plt\n",
    "\n",
    "max_opac = 1\n",
    "min_opac = 0.05\n",
    "\n",
    "# Define a function to calculate the opacity based on distance\n",
    "def calculate_opacity(distances, max_distance, max_opac, min_opac, gradient='linear'):\n",
    "    if gradient == 'linear':\n",
    "        opacities = min_opac + (max_opac - min_opac) * (1 - (distances / max_distance))\n",
    "    elif gradient == 'exponential':\n",
    "        k = 5  # You can adjust this constant to control the rate of decay\n",
    "        opacities = min_opac + (max_opac - min_opac) * np.exp(-k * (distances / max_distance))\n",
    "    else:\n",
    "        raise ValueError(\"Unsupported gradient type. Use 'linear' or 'exponential'.\")\n",
    "    return opacities\n",
    "\n",
    "# Create mesh actors with gradient opacity and color\n",
    "mesh_actor = {}\n",
    "for cellid in cell_list:\n",
    "    cell_key = 'cell_' + str(cellid)\n",
    "    if cell_key in mesh_dictionary:\n",
    "        mesh = mesh_dictionary[cell_key]\n",
    "        centroid = mesh.centroid\n",
    "        distances = np.linalg.norm(mesh.vertices - centroid, axis=1)\n",
    "        max_distance = np.max(distances)\n",
    "        opacities = calculate_opacity(distances, max_distance, max_opac, min_opac, gradient='exponential')\n",
    "        \n",
    "        # Normalize distances for color mapping\n",
    "        normalized_distances = distances / max_distance\n",
    "        \n",
    "        # Use a colormap from matplotlib\n",
    "        colormap = plt.cm.hot_r # add _r to reverse #spring #viridis\n",
    "        colors = colormap(normalized_distances)\n",
    "        \n",
    "        # Create a vtkPoints object\n",
    "        points = vtk.vtkPoints()\n",
    "        for vertex in mesh.vertices:\n",
    "            points.InsertNextPoint(vertex[0], vertex[1], vertex[2])\n",
    "        \n",
    "        # Create a vtkCellArray object\n",
    "        cells = vtk.vtkCellArray()\n",
    "        for face in mesh.faces:\n",
    "            cells.InsertNextCell(3, face)\n",
    "        \n",
    "        # Create a vtkPolyData object\n",
    "        poly_data = vtk.vtkPolyData()\n",
    "        poly_data.SetPoints(points)\n",
    "        poly_data.SetPolys(cells)\n",
    "        \n",
    "        # Create a vtkUnsignedCharArray to hold the colors\n",
    "        color_array = vtk.vtkUnsignedCharArray()\n",
    "        color_array.SetNumberOfComponents(4)  # RGBA\n",
    "        color_array.SetName(\"Colors\")\n",
    "        \n",
    "        for color, opacity in zip(colors, opacities):\n",
    "            rgba = [int(255 * c) for c in color[:3]] + [int(255 * opacity)]\n",
    "            color_array.InsertNextTuple(rgba)\n",
    "        \n",
    "        # Add the color array to the vtkPolyData\n",
    "        poly_data.GetPointData().SetScalars(color_array)\n",
    "        \n",
    "        # Create a vtkPolyDataMapper\n",
    "        mapper = vtk.vtkPolyDataMapper()\n",
    "        mapper.SetInputData(poly_data)\n",
    "        \n",
    "        # Create a vtkActor\n",
    "        actor = vtk.vtkActor()\n",
    "        actor.SetMapper(mapper)\n",
    "        \n",
    "        mesh_actor[cell_key] = actor\n",
    "\n",
    "# Create a camera object and define the view\n",
    "if 'cell_' + str(cell_list[0]) in mesh_dictionary:\n",
    "    camera = trimesh_vtk.oriented_camera(mesh_dictionary['cell_' + str(cell_list[0])].centroid, backoff=400)\n",
    "else:\n",
    "    print(f\"First cell key cell_{cell_list[0]} not found in mesh dictionary.\")\n",
    "\n",
    "# Render the actors, will open a pop-up Python window\n",
    "trimesh_vtk.render_actors(mesh_actor.values(), camera=camera)\n"
   ]
  },
  {
   "cell_type": "markdown",
   "id": "bedb0d08",
   "metadata": {},
   "source": [
    "## reverse opacity gradient"
   ]
  },
  {
   "cell_type": "code",
   "execution_count": 11,
   "id": "0c9c83d0",
   "metadata": {},
   "outputs": [
    {
     "name": "stdout",
     "output_type": "stream",
     "text": [
      "setting up renderer\n",
      "done setting up\n",
      "actors added\n",
      "camera set\n",
      "render done\n",
      "finalizing..\n"
     ]
    },
    {
     "data": {
      "text/plain": [
       "<vtkmodules.vtkRenderingOpenGL2.vtkOpenGLRenderer(0x0000016A33D31310) at 0x000001698A429D68>"
      ]
     },
     "execution_count": 11,
     "metadata": {},
     "output_type": "execute_result"
    }
   ],
   "source": [
    "# import vtk\n",
    "# import numpy as np\n",
    "# from meshparty import trimesh_io, trimesh_vtk, skeleton, utils\n",
    "# import matplotlib.pyplot as plt\n",
    "\n",
    "max_opac = 1\n",
    "min_opac = 0.000000000005\n",
    "\n",
    "# Define a function to calculate the opacity based on distance\n",
    "def calculate_opacity(distances, max_distance, max_opac, min_opac, gradient='linear'):\n",
    "    if gradient == 'linear':\n",
    "        opacities = min_opac + (max_opac - min_opac) * (distances / max_distance)\n",
    "    elif gradient == 'exponential':\n",
    "        k = 5  # You can adjust this constant to control the rate of decay\n",
    "        opacities = min_opac + (max_opac - min_opac) * (1 - np.exp(-k * (distances / max_distance)))\n",
    "    else:\n",
    "        raise ValueError(\"Unsupported gradient type. Use 'linear' or 'exponential'.\")\n",
    "    return opacities\n",
    "\n",
    "# Create mesh actors with gradient opacity and color\n",
    "mesh_actor = {}\n",
    "for cellid in cell_list:\n",
    "    cell_key = 'cell_' + str(cellid)\n",
    "    if cell_key in mesh_dictionary:\n",
    "        mesh = mesh_dictionary[cell_key]\n",
    "        centroid = mesh.centroid\n",
    "        distances = np.linalg.norm(mesh.vertices - centroid, axis=1)\n",
    "        max_distance = np.max(distances)\n",
    "        opacities = calculate_opacity(distances, max_distance, max_opac, min_opac, gradient='exponential')\n",
    "        \n",
    "        # Normalize distances for color mapping\n",
    "        normalized_distances = distances / max_distance\n",
    "        \n",
    "        # Use a colormap from matplotlib\n",
    "        colormap = plt.cm.viridis\n",
    "        colors = colormap(normalized_distances)\n",
    "        \n",
    "        # Create a vtkPoints object\n",
    "        points = vtk.vtkPoints()\n",
    "        for vertex in mesh.vertices:\n",
    "            points.InsertNextPoint(vertex[0], vertex[1], vertex[2])\n",
    "        \n",
    "        # Create a vtkCellArray object\n",
    "        cells = vtk.vtkCellArray()\n",
    "        for face in mesh.faces:\n",
    "            cells.InsertNextCell(3, face)\n",
    "        \n",
    "        # Create a vtkPolyData object\n",
    "        poly_data = vtk.vtkPolyData()\n",
    "        poly_data.SetPoints(points)\n",
    "        poly_data.SetPolys(cells)\n",
    "        \n",
    "        # Create a vtkUnsignedCharArray to hold the colors\n",
    "        color_array = vtk.vtkUnsignedCharArray()\n",
    "        color_array.SetNumberOfComponents(4)  # RGBA\n",
    "        color_array.SetName(\"Colors\")\n",
    "        \n",
    "        for color, opacity in zip(colors, opacities):\n",
    "            rgba = [int(255 * c) for c in color[:3]] + [int(255 * opacity)]\n",
    "            color_array.InsertNextTuple(rgba)\n",
    "        \n",
    "        # Add the color array to the vtkPolyData\n",
    "        poly_data.GetPointData().SetScalars(color_array)\n",
    "        \n",
    "        # Create a vtkPolyDataMapper\n",
    "        mapper = vtk.vtkPolyDataMapper()\n",
    "        mapper.SetInputData(poly_data)\n",
    "        \n",
    "        # Create a vtkActor\n",
    "        actor = vtk.vtkActor()\n",
    "        actor.SetMapper(mapper)\n",
    "        \n",
    "        mesh_actor[cell_key] = actor\n",
    "\n",
    "# Create a camera object and define the view\n",
    "if 'cell_' + str(cell_list[0]) in mesh_dictionary:\n",
    "    camera = trimesh_vtk.oriented_camera(mesh_dictionary['cell_' + str(cell_list[0])].centroid, backoff=400)\n",
    "else:\n",
    "    print(f\"First cell key cell_{cell_list[0]} not found in mesh dictionary.\")\n",
    "\n",
    "# Render the actors, will open a pop-up Python window\n",
    "trimesh_vtk.render_actors(mesh_actor.values(), camera=camera)\n"
   ]
  },
  {
   "cell_type": "markdown",
   "id": "26f67ab5",
   "metadata": {},
   "source": [
    "# refine opacity gradient"
   ]
  },
  {
   "cell_type": "code",
   "execution_count": 13,
   "id": "582c22a4",
   "metadata": {},
   "outputs": [
    {
     "name": "stdout",
     "output_type": "stream",
     "text": [
      "Opacities (min: 0.524586629026758, max: 1.0)\n",
      "Opacities (min: 0.516248373660448, max: 1.0)\n",
      "Opacities (min: 0.5036108074444867, max: 1.0)\n",
      "Opacities (min: 0.5114889924601367, max: 1.0)\n",
      "Opacities (min: 0.5308192614331432, max: 1.0)\n",
      "Opacities (min: 0.5172758568303778, max: 1.0)\n",
      "Opacities (min: 0.5313134379922614, max: 1.0)\n",
      "Opacities (min: 0.5005168345461923, max: 1.0)\n",
      "Opacities (min: 0.5034388770990426, max: 1.0)\n",
      "Opacities (min: 0.5074303618704453, max: 1.0)\n",
      "Opacities (min: 0.5171018734914807, max: 1.0)\n",
      "Opacities (min: 0.5043006733328208, max: 1.0)\n",
      "Opacities (min: 0.5108688063184069, max: 1.0)\n",
      "Opacities (min: 0.5101480620929012, max: 1.0)\n",
      "Opacities (min: 0.5154998587241232, max: 1.0)\n",
      "Opacities (min: 0.518411082022346, max: 1.0)\n",
      "Opacities (min: 0.524503997335031, max: 1.0)\n",
      "Opacities (min: 0.5186049094985198, max: 1.0)\n",
      "Opacities (min: 0.5349747349856234, max: 1.0)\n",
      "Opacities (min: 0.5036213875980444, max: 1.0)\n",
      "Opacities (min: 0.5074024955834612, max: 1.0)\n",
      "Opacities (min: 0.5011931682960111, max: 1.0)\n",
      "Opacities (min: 0.5220810128348492, max: 1.0)\n",
      "Opacities (min: 0.5129963978771915, max: 1.0)\n",
      "Opacities (min: 0.5464974857032386, max: 1.0)\n",
      "Opacities (min: 0.5209782251017319, max: 1.0)\n",
      "Opacities (min: 0.5103178372885255, max: 1.0)\n",
      "Opacities (min: 0.5312677086078306, max: 1.0)\n",
      "Opacities (min: 0.5101498670481156, max: 1.0)\n",
      "setting up renderer\n",
      "done setting up\n",
      "actors added\n",
      "camera set\n",
      "render done\n",
      "finalizing..\n"
     ]
    },
    {
     "data": {
      "text/plain": [
       "<vtkmodules.vtkRenderingOpenGL2.vtkOpenGLRenderer(0x0000016A33D2DA40) at 0x000001698A44A4C8>"
      ]
     },
     "execution_count": 13,
     "metadata": {},
     "output_type": "execute_result"
    }
   ],
   "source": [
    "# import vtk\n",
    "# import numpy as np\n",
    "# from meshparty import trimesh_io, trimesh_vtk, skeleton, utils\n",
    "# import matplotlib.pyplot as plt\n",
    "\n",
    "max_opac = 1\n",
    "min_opac = 0.5\n",
    "\n",
    "# Define a function to calculate the opacity based on distance\n",
    "def calculate_opacity(distances, max_distance, max_opac, min_opac, gradient='linear'):\n",
    "    if gradient == 'linear':\n",
    "        opacities = min_opac + (max_opac - min_opac) * (distances / max_distance)\n",
    "    elif gradient == 'exponential':\n",
    "        k = 5  # You can adjust this constant to control the rate of decay\n",
    "        opacities = min_opac + (max_opac - min_opac) * (1 - np.exp(-k * (distances / max_distance)))\n",
    "    else:\n",
    "        raise ValueError(\"Unsupported gradient type. Use 'linear' or 'exponential'.\")\n",
    "    return opacities\n",
    "\n",
    "# Create mesh actors with gradient opacity and color\n",
    "mesh_actor = {}\n",
    "for cellid in cell_list:\n",
    "    cell_key = 'cell_' + str(cellid)\n",
    "    if cell_key in mesh_dictionary:\n",
    "        mesh = mesh_dictionary[cell_key]\n",
    "        centroid = mesh.centroid\n",
    "        distances = np.linalg.norm(mesh.vertices - centroid, axis=1)\n",
    "        max_distance = np.max(distances)\n",
    "        opacities = calculate_opacity(distances, max_distance, max_opac, min_opac, gradient='linear')\n",
    "        \n",
    "        # Debug print to check opacity values\n",
    "        print(f\"Opacities (min: {np.min(opacities)}, max: {np.max(opacities)})\")\n",
    "        \n",
    "        # Normalize distances for color mapping\n",
    "        normalized_distances = distances / max_distance\n",
    "        \n",
    "        # Use a colormap from matplotlib\n",
    "        colormap = plt.cm.hot_r #viridis\n",
    "        colors = colormap(normalized_distances)\n",
    "        \n",
    "        # Create a vtkPoints object\n",
    "        points = vtk.vtkPoints()\n",
    "        for vertex in mesh.vertices:\n",
    "            points.InsertNextPoint(vertex[0], vertex[1], vertex[2])\n",
    "        \n",
    "        # Create a vtkCellArray object\n",
    "        cells = vtk.vtkCellArray()\n",
    "        for face in mesh.faces:\n",
    "            cells.InsertNextCell(3, face)\n",
    "        \n",
    "        # Create a vtkPolyData object\n",
    "        poly_data = vtk.vtkPolyData()\n",
    "        poly_data.SetPoints(points)\n",
    "        poly_data.SetPolys(cells)\n",
    "        \n",
    "        # Create a vtkUnsignedCharArray to hold the colors\n",
    "        color_array = vtk.vtkUnsignedCharArray()\n",
    "        color_array.SetNumberOfComponents(4)  # RGBA\n",
    "        color_array.SetName(\"Colors\")\n",
    "        \n",
    "        for color, opacity in zip(colors, opacities):\n",
    "            rgba = [int(255 * c) for c in color[:3]] + [int(255 * opacity)]\n",
    "            color_array.InsertNextTuple(rgba)\n",
    "        \n",
    "        # Add the color array to the vtkPolyData\n",
    "        poly_data.GetPointData().SetScalars(color_array)\n",
    "        \n",
    "        # Create a vtkPolyDataMapper\n",
    "        mapper = vtk.vtkPolyDataMapper()\n",
    "        mapper.SetInputData(poly_data)\n",
    "        \n",
    "        # Create a vtkActor\n",
    "        actor = vtk.vtkActor()\n",
    "        actor.SetMapper(mapper)\n",
    "        \n",
    "        mesh_actor[cell_key] = actor\n",
    "\n",
    "# Create a camera object and define the view\n",
    "if 'cell_' + str(cell_list[0]) in mesh_dictionary:\n",
    "    camera = trimesh_vtk.oriented_camera(mesh_dictionary['cell_' + str(cell_list[0])].centroid, backoff=400)\n",
    "else:\n",
    "    print(f\"First cell key cell_{cell_list[0]} not found in mesh dictionary.\")\n",
    "\n",
    "# Render the actors, will open a pop-up Python window\n",
    "trimesh_vtk.render_actors(mesh_actor.values(), camera=camera)\n"
   ]
  },
  {
   "cell_type": "code",
   "execution_count": null,
   "id": "4b0d2eca",
   "metadata": {},
   "outputs": [],
   "source": []
  }
 ],
 "metadata": {
  "kernelspec": {
   "display_name": "Python 3 (ipykernel)",
   "language": "python",
   "name": "python3"
  },
  "language_info": {
   "codemirror_mode": {
    "name": "ipython",
    "version": 3
   },
   "file_extension": ".py",
   "mimetype": "text/x-python",
   "name": "python",
   "nbconvert_exporter": "python",
   "pygments_lexer": "ipython3",
   "version": "3.7.12"
  }
 },
 "nbformat": 4,
 "nbformat_minor": 5
}
