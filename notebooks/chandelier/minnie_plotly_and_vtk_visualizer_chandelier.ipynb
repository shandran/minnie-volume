{
 "cells": [
  {
   "cell_type": "code",
   "execution_count": 1,
   "id": "a9d319e3",
   "metadata": {},
   "outputs": [
    {
     "name": "stderr",
     "output_type": "stream",
     "text": [
      "WARNING:root:Need to pip install caveclient to repair mesh with pychunkedgraph\n",
      "WARNING:root:Need to pip install caveclient to use dataset_name parameters\n"
     ]
    }
   ],
   "source": [
    "import pandas as pd\n",
    "import numpy as np\n",
    "import os\n",
    "from meshparty import trimesh_io, trimesh_vtk, skeleton, utils\n",
    "import vtk\n",
    "import matplotlib.pyplot as plt\n",
    "import plotly.express as px\n",
    "import plotly.graph_objects as go\n",
    "import time\n",
    "from tqdm import tqdm"
   ]
  },
  {
   "cell_type": "code",
   "execution_count": 2,
   "id": "bf46bcf7",
   "metadata": {},
   "outputs": [],
   "source": [
    "# setup the mesh meta to handle downloads and caching\n",
    "mesh_dir = 'data/cell_meshes' # or change to your desired folder\n",
    "seg_source = 'graphene://https://minnie.microns-daf.com/segmentation/table/minnie65_public' # static: \"precomputed://gs://iarpa_microns/minnie/minnie65/seg\"\n",
    "mm = trimesh_io.MeshMeta(cv_path=seg_source,\n",
    "                         disk_cache_path=mesh_dir, \n",
    "                         cache_size=20)"
   ]
  },
  {
   "cell_type": "code",
   "execution_count": 3,
   "id": "52e6df0b",
   "metadata": {},
   "outputs": [],
   "source": [
    "cell_id_list = [864691135397985569, \n",
    "                864691134965433631, 864691135100839712, 864691135210965952, 864691135446178450, \n",
    "                864691135479068358, 864691135590803467, 864691135718708273, 864691135876855379, \n",
    "                864691136274045374, 864691136311785021, 864691136389425783, 864691136617703131]\n",
    "\n",
    "# Chandelier 864691134965433631 with neurons with 4 or more syanpses from Chand\n",
    "\n",
    "#[864691135105583693, 864691136175611654, 864691135341563589, 864691136100760693, 864691136195001420, 864691135517281235, 864691135505383154]\n",
    "# Chandelier with top 6 targets that have 4 or more synapses\n",
    "\n",
    "#[864691135349628119, 864691136228111441]\n",
    "#[864691135763235638, 864691136194966604]\n",
    "#[864691136275359757, 864691135135661593] # testing a possible chandelier cell and one connection; this does not appear to be a chand\n",
    "\n",
    "#[864691135349628119, 864691135616427625, 864691136228111441, 864691135338802662, 864691136663195614, 864691134918592778, 864691135701642875, 864691135118535901, 864691135349240279, 864691135782690611, 864691135464143934, 864691136912632561, 864691136176241414, 864691136740782428, 864691136602771153, 864691135491764575, 864691135856964654, 864691135915877734, 864691135472997682, 864691136091546036, 864691135082183671, 864691135974785903, 864691136578577428, 864691135995464618, 864691136194253526, 864691136040989782, 864691135257245615, 864691135800991586, 864691135684283122, 864691135755487186, 864691136175055110, 864691135475565888, 864691136238282044, 864691136952201183, 864691135397533473, 864691135463417406, 864691135211205824, 864691135645672943, 864691135278202785, 864691135571226661, 864691135687864032, 864691135156418916, 864691136904446130, 864691136238226492]\n",
    "# Chandelier cell 864691135349628119 in position 0\n",
    "# 43 neurons that receive 4 or more synapses from Chandelier 864691135349628119 \n"
   ]
  },
  {
   "cell_type": "code",
   "execution_count": 4,
   "id": "34baae7d",
   "metadata": {},
   "outputs": [],
   "source": [
    "# make a dictionary to hold the mesh file for each cell id in the list\n",
    "\n",
    "mesh_dictionary = {}\n",
    "for i in range(len(cell_id_list)):\n",
    "    mesh_file = os.path.join(mesh_dir, str(cell_id_list[i]) + '.h5') # '_0' + '.h5')\n",
    "    mesh_dictionary['cell_' + str(i)] = mm.mesh(filename = mesh_file)"
   ]
  },
  {
   "cell_type": "code",
   "execution_count": 5,
   "id": "c8f07ae7",
   "metadata": {},
   "outputs": [
    {
     "data": {
      "text/plain": [
       "{'cell_0': <trimesh.Mesh(vertices.shape=(1455855, 3), faces.shape=(2932771, 3))>,\n",
       " 'cell_1': <trimesh.Mesh(vertices.shape=(3851872, 3), faces.shape=(7724167, 3))>,\n",
       " 'cell_2': <trimesh.Mesh(vertices.shape=(3241566, 3), faces.shape=(6498859, 3))>,\n",
       " 'cell_3': <trimesh.Mesh(vertices.shape=(2571395, 3), faces.shape=(5151342, 3))>,\n",
       " 'cell_4': <trimesh.Mesh(vertices.shape=(3443196, 3), faces.shape=(6908903, 3))>,\n",
       " 'cell_5': <trimesh.Mesh(vertices.shape=(3146934, 3), faces.shape=(6323955, 3))>,\n",
       " 'cell_6': <trimesh.Mesh(vertices.shape=(3252678, 3), faces.shape=(6520943, 3))>,\n",
       " 'cell_7': <trimesh.Mesh(vertices.shape=(3840780, 3), faces.shape=(7707549, 3))>,\n",
       " 'cell_8': <trimesh.Mesh(vertices.shape=(2062672, 3), faces.shape=(4141188, 3))>,\n",
       " 'cell_9': <trimesh.Mesh(vertices.shape=(3160400, 3), faces.shape=(6338974, 3))>,\n",
       " 'cell_10': <trimesh.Mesh(vertices.shape=(2191646, 3), faces.shape=(4397423, 3))>,\n",
       " 'cell_11': <trimesh.Mesh(vertices.shape=(3621420, 3), faces.shape=(7235569, 3))>,\n",
       " 'cell_12': <trimesh.Mesh(vertices.shape=(2519077, 3), faces.shape=(5084931, 3))>}"
      ]
     },
     "execution_count": 5,
     "metadata": {},
     "output_type": "execute_result"
    }
   ],
   "source": [
    "mesh_dictionary"
   ]
  },
  {
   "cell_type": "markdown",
   "id": "25b7ed2c",
   "metadata": {},
   "source": [
    "### Import synapse table"
   ]
  },
  {
   "cell_type": "code",
   "execution_count": 6,
   "id": "77ab1174",
   "metadata": {},
   "outputs": [],
   "source": [
    "table_path = 'data/synapse_tables/'"
   ]
  },
  {
   "cell_type": "code",
   "execution_count": 7,
   "id": "2c57d06e",
   "metadata": {},
   "outputs": [],
   "source": [
    "# set scale factor for applying conversion for pixel position of synapses\n",
    "scale_factor = [4,4,40]"
   ]
  },
  {
   "cell_type": "code",
   "execution_count": 8,
   "id": "a797ed8e",
   "metadata": {},
   "outputs": [
    {
     "name": "stdout",
     "output_type": "stream",
     "text": [
      "length: 4555\n"
     ]
    },
    {
     "data": {
      "text/html": [
       "<div>\n",
       "<style scoped>\n",
       "    .dataframe tbody tr th:only-of-type {\n",
       "        vertical-align: middle;\n",
       "    }\n",
       "\n",
       "    .dataframe tbody tr th {\n",
       "        vertical-align: top;\n",
       "    }\n",
       "\n",
       "    .dataframe thead th {\n",
       "        text-align: right;\n",
       "    }\n",
       "</style>\n",
       "<table border=\"1\" class=\"dataframe\">\n",
       "  <thead>\n",
       "    <tr style=\"text-align: right;\">\n",
       "      <th></th>\n",
       "      <th>id</th>\n",
       "      <th>created</th>\n",
       "      <th>superceded_id</th>\n",
       "      <th>valid</th>\n",
       "      <th>size</th>\n",
       "      <th>pre_pt_supervoxel_id</th>\n",
       "      <th>pre_pt_root_id</th>\n",
       "      <th>post_pt_supervoxel_id</th>\n",
       "      <th>post_pt_root_id</th>\n",
       "      <th>pre_pt_position</th>\n",
       "      <th>post_pt_position</th>\n",
       "      <th>ctr_pt_position</th>\n",
       "    </tr>\n",
       "  </thead>\n",
       "  <tbody>\n",
       "    <tr>\n",
       "      <th>0</th>\n",
       "      <td>405121119</td>\n",
       "      <td>2020-11-04 06:48:59.036865+00:00</td>\n",
       "      <td>NaN</td>\n",
       "      <td>t</td>\n",
       "      <td>13496</td>\n",
       "      <td>109356671188892750</td>\n",
       "      <td>864691135706697056</td>\n",
       "      <td>109356671188882080</td>\n",
       "      <td>864691135397985569</td>\n",
       "      <td>[324482  87798  19955]</td>\n",
       "      <td>[324532  87902  19950]</td>\n",
       "      <td>[324478  87826  19945]</td>\n",
       "    </tr>\n",
       "    <tr>\n",
       "      <th>1</th>\n",
       "      <td>416857574</td>\n",
       "      <td>2020-11-04 06:48:59.403833+00:00</td>\n",
       "      <td>NaN</td>\n",
       "      <td>t</td>\n",
       "      <td>8684</td>\n",
       "      <td>110552458870595995</td>\n",
       "      <td>864691136524105981</td>\n",
       "      <td>110552458870594810</td>\n",
       "      <td>864691135397985569</td>\n",
       "      <td>[333094  84276  20381]</td>\n",
       "      <td>[332946  84322  20376]</td>\n",
       "      <td>[332959  84214  20383]</td>\n",
       "    </tr>\n",
       "    <tr>\n",
       "      <th>2</th>\n",
       "      <td>416432843</td>\n",
       "      <td>2020-11-04 06:48:59.326085+00:00</td>\n",
       "      <td>NaN</td>\n",
       "      <td>t</td>\n",
       "      <td>5228</td>\n",
       "      <td>110696632198451368</td>\n",
       "      <td>864691134990697805</td>\n",
       "      <td>110696632198451550</td>\n",
       "      <td>864691135397985569</td>\n",
       "      <td>[334108 110136  19197]</td>\n",
       "      <td>[334026 110204  19202]</td>\n",
       "      <td>[334106 110182  19205]</td>\n",
       "    </tr>\n",
       "    <tr>\n",
       "      <th>3</th>\n",
       "      <td>389474611</td>\n",
       "      <td>2020-11-04 06:49:11.886757+00:00</td>\n",
       "      <td>NaN</td>\n",
       "      <td>t</td>\n",
       "      <td>2164</td>\n",
       "      <td>108090239951826046</td>\n",
       "      <td>864691135467990980</td>\n",
       "      <td>108090239951828332</td>\n",
       "      <td>864691135397985569</td>\n",
       "      <td>[315214  89600  19683]</td>\n",
       "      <td>[315354  89580  19688]</td>\n",
       "      <td>[315262  89568  19683]</td>\n",
       "    </tr>\n",
       "    <tr>\n",
       "      <th>4</th>\n",
       "      <td>403289856</td>\n",
       "      <td>2020-11-04 06:49:11.886757+00:00</td>\n",
       "      <td>NaN</td>\n",
       "      <td>t</td>\n",
       "      <td>1276</td>\n",
       "      <td>109288639040671287</td>\n",
       "      <td>864691135463229380</td>\n",
       "      <td>109288707760140610</td>\n",
       "      <td>864691135397985569</td>\n",
       "      <td>[323834 105650  20527]</td>\n",
       "      <td>[323758 105720  20519]</td>\n",
       "      <td>[323783 105650  20523]</td>\n",
       "    </tr>\n",
       "  </tbody>\n",
       "</table>\n",
       "</div>"
      ],
      "text/plain": [
       "          id                           created  superceded_id valid   size  \\\n",
       "0  405121119  2020-11-04 06:48:59.036865+00:00            NaN     t  13496   \n",
       "1  416857574  2020-11-04 06:48:59.403833+00:00            NaN     t   8684   \n",
       "2  416432843  2020-11-04 06:48:59.326085+00:00            NaN     t   5228   \n",
       "3  389474611  2020-11-04 06:49:11.886757+00:00            NaN     t   2164   \n",
       "4  403289856  2020-11-04 06:49:11.886757+00:00            NaN     t   1276   \n",
       "\n",
       "   pre_pt_supervoxel_id      pre_pt_root_id  post_pt_supervoxel_id  \\\n",
       "0    109356671188892750  864691135706697056     109356671188882080   \n",
       "1    110552458870595995  864691136524105981     110552458870594810   \n",
       "2    110696632198451368  864691134990697805     110696632198451550   \n",
       "3    108090239951826046  864691135467990980     108090239951828332   \n",
       "4    109288639040671287  864691135463229380     109288707760140610   \n",
       "\n",
       "      post_pt_root_id         pre_pt_position        post_pt_position  \\\n",
       "0  864691135397985569  [324482  87798  19955]  [324532  87902  19950]   \n",
       "1  864691135397985569  [333094  84276  20381]  [332946  84322  20376]   \n",
       "2  864691135397985569  [334108 110136  19197]  [334026 110204  19202]   \n",
       "3  864691135397985569  [315214  89600  19683]  [315354  89580  19688]   \n",
       "4  864691135397985569  [323834 105650  20527]  [323758 105720  20519]   \n",
       "\n",
       "          ctr_pt_position  \n",
       "0  [324478  87826  19945]  \n",
       "1  [332959  84214  20383]  \n",
       "2  [334106 110182  19205]  \n",
       "3  [315262  89568  19683]  \n",
       "4  [323783 105650  20523]  "
      ]
     },
     "execution_count": 8,
     "metadata": {},
     "output_type": "execute_result"
    }
   ],
   "source": [
    "# open post-synaptic sites on the Chandelier cell in index 0\n",
    "\n",
    "post_table = pd.read_csv(f'{table_path}{cell_id_list[0]}_syn_df_post.csv')\n",
    "print(f\"length: {len(post_table)}\")\n",
    "post_table.head()"
   ]
  },
  {
   "cell_type": "code",
   "execution_count": 9,
   "id": "ab955059",
   "metadata": {},
   "outputs": [
    {
     "data": {
      "text/plain": [
       "array(['[324478  87826  19945]', '[332959  84214  20383]',\n",
       "       '[334106 110182  19205]', ..., '[319366  97322  20049]',\n",
       "       '[318682 111620  20192]', '[325345 104598  20446]'], dtype=object)"
      ]
     },
     "execution_count": 9,
     "metadata": {},
     "output_type": "execute_result"
    }
   ],
   "source": [
    "chand_postsyn_position_array = post_table.ctr_pt_position.values\n",
    "chand_postsyn_position_array"
   ]
  },
  {
   "cell_type": "code",
   "execution_count": 10,
   "id": "ec248d11",
   "metadata": {},
   "outputs": [
    {
     "data": {
      "text/plain": [
       "array([[1297912,  351304,  797800],\n",
       "       [1331836,  336856,  815320],\n",
       "       [1336424,  440728,  768200],\n",
       "       ...,\n",
       "       [1277464,  389288,  801960],\n",
       "       [1274728,  446480,  807680],\n",
       "       [1301380,  418392,  817840]])"
      ]
     },
     "execution_count": 10,
     "metadata": {},
     "output_type": "execute_result"
    }
   ],
   "source": [
    "# Format the array with commas between values and convert to a numeric array\n",
    "chand_postsyn_formatted_array = np.array([np.fromstring(item.strip('[]'), sep=' ') for item in chand_postsyn_position_array])\n",
    "\n",
    "# Apply the scale factor transformation\n",
    "chand_postsyn_transformed_array = chand_postsyn_formatted_array * scale_factor\n",
    "\n",
    "# Convert the transformed array to integers\n",
    "postsyn_xyz = chand_postsyn_transformed_array.astype(int)\n",
    "postsyn_xyz"
   ]
  },
  {
   "cell_type": "code",
   "execution_count": 11,
   "id": "059ce363",
   "metadata": {},
   "outputs": [
    {
     "name": "stdout",
     "output_type": "stream",
     "text": [
      "length: 301\n"
     ]
    },
    {
     "data": {
      "text/html": [
       "<div>\n",
       "<style scoped>\n",
       "    .dataframe tbody tr th:only-of-type {\n",
       "        vertical-align: middle;\n",
       "    }\n",
       "\n",
       "    .dataframe tbody tr th {\n",
       "        vertical-align: top;\n",
       "    }\n",
       "\n",
       "    .dataframe thead th {\n",
       "        text-align: right;\n",
       "    }\n",
       "</style>\n",
       "<table border=\"1\" class=\"dataframe\">\n",
       "  <thead>\n",
       "    <tr style=\"text-align: right;\">\n",
       "      <th></th>\n",
       "      <th>id</th>\n",
       "      <th>created</th>\n",
       "      <th>superceded_id</th>\n",
       "      <th>valid</th>\n",
       "      <th>size</th>\n",
       "      <th>pre_pt_supervoxel_id</th>\n",
       "      <th>pre_pt_root_id</th>\n",
       "      <th>post_pt_supervoxel_id</th>\n",
       "      <th>post_pt_root_id</th>\n",
       "      <th>pre_pt_position</th>\n",
       "      <th>post_pt_position</th>\n",
       "      <th>ctr_pt_position</th>\n",
       "    </tr>\n",
       "  </thead>\n",
       "  <tbody>\n",
       "    <tr>\n",
       "      <th>0</th>\n",
       "      <td>404931405</td>\n",
       "      <td>2020-11-04 06:48:59.326085+00:00</td>\n",
       "      <td>NaN</td>\n",
       "      <td>t</td>\n",
       "      <td>6100</td>\n",
       "      <td>109432675198581331</td>\n",
       "      <td>864691135397985569</td>\n",
       "      <td>109432675198577279</td>\n",
       "      <td>864691135511460560</td>\n",
       "      <td>[324992 129858  21963]</td>\n",
       "      <td>[325058 129906  21954]</td>\n",
       "      <td>[325038 129840  21959]</td>\n",
       "    </tr>\n",
       "    <tr>\n",
       "      <th>1</th>\n",
       "      <td>382604970</td>\n",
       "      <td>2020-11-04 06:48:59.510128+00:00</td>\n",
       "      <td>NaN</td>\n",
       "      <td>t</td>\n",
       "      <td>1636</td>\n",
       "      <td>107528732973313968</td>\n",
       "      <td>864691135397985569</td>\n",
       "      <td>107528732973337107</td>\n",
       "      <td>864691135865543557</td>\n",
       "      <td>[311194 100304  18745]</td>\n",
       "      <td>[311088 100312  18756]</td>\n",
       "      <td>[311136 100264  18750]</td>\n",
       "    </tr>\n",
       "    <tr>\n",
       "      <th>2</th>\n",
       "      <td>403854339</td>\n",
       "      <td>2020-11-04 06:49:11.545614+00:00</td>\n",
       "      <td>NaN</td>\n",
       "      <td>t</td>\n",
       "      <td>2084</td>\n",
       "      <td>109499607767656143</td>\n",
       "      <td>864691135397985569</td>\n",
       "      <td>109499607767655080</td>\n",
       "      <td>864691135481716357</td>\n",
       "      <td>[325486 104284  20437]</td>\n",
       "      <td>[325566 104294  20436]</td>\n",
       "      <td>[325540 104276  20435]</td>\n",
       "    </tr>\n",
       "    <tr>\n",
       "      <th>3</th>\n",
       "      <td>385002847</td>\n",
       "      <td>2020-11-04 06:49:11.545614+00:00</td>\n",
       "      <td>NaN</td>\n",
       "      <td>t</td>\n",
       "      <td>2468</td>\n",
       "      <td>107672493984493151</td>\n",
       "      <td>864691135397985569</td>\n",
       "      <td>107672493984497832</td>\n",
       "      <td>864691135538970738</td>\n",
       "      <td>[311892 122598  17768]</td>\n",
       "      <td>[311928 122674  17770]</td>\n",
       "      <td>[311908 122628  17770]</td>\n",
       "    </tr>\n",
       "    <tr>\n",
       "      <th>4</th>\n",
       "      <td>427032923</td>\n",
       "      <td>2020-11-04 06:53:24.912290+00:00</td>\n",
       "      <td>NaN</td>\n",
       "      <td>t</td>\n",
       "      <td>12712</td>\n",
       "      <td>111333249632055074</td>\n",
       "      <td>864691135397985569</td>\n",
       "      <td>111333318351529892</td>\n",
       "      <td>864691135988011011</td>\n",
       "      <td>[338954 134836  20576]</td>\n",
       "      <td>[338950 134858  20567]</td>\n",
       "      <td>[338968 134860  20569]</td>\n",
       "    </tr>\n",
       "  </tbody>\n",
       "</table>\n",
       "</div>"
      ],
      "text/plain": [
       "          id                           created  superceded_id valid   size  \\\n",
       "0  404931405  2020-11-04 06:48:59.326085+00:00            NaN     t   6100   \n",
       "1  382604970  2020-11-04 06:48:59.510128+00:00            NaN     t   1636   \n",
       "2  403854339  2020-11-04 06:49:11.545614+00:00            NaN     t   2084   \n",
       "3  385002847  2020-11-04 06:49:11.545614+00:00            NaN     t   2468   \n",
       "4  427032923  2020-11-04 06:53:24.912290+00:00            NaN     t  12712   \n",
       "\n",
       "   pre_pt_supervoxel_id      pre_pt_root_id  post_pt_supervoxel_id  \\\n",
       "0    109432675198581331  864691135397985569     109432675198577279   \n",
       "1    107528732973313968  864691135397985569     107528732973337107   \n",
       "2    109499607767656143  864691135397985569     109499607767655080   \n",
       "3    107672493984493151  864691135397985569     107672493984497832   \n",
       "4    111333249632055074  864691135397985569     111333318351529892   \n",
       "\n",
       "      post_pt_root_id         pre_pt_position        post_pt_position  \\\n",
       "0  864691135511460560  [324992 129858  21963]  [325058 129906  21954]   \n",
       "1  864691135865543557  [311194 100304  18745]  [311088 100312  18756]   \n",
       "2  864691135481716357  [325486 104284  20437]  [325566 104294  20436]   \n",
       "3  864691135538970738  [311892 122598  17768]  [311928 122674  17770]   \n",
       "4  864691135988011011  [338954 134836  20576]  [338950 134858  20567]   \n",
       "\n",
       "          ctr_pt_position  \n",
       "0  [325038 129840  21959]  \n",
       "1  [311136 100264  18750]  \n",
       "2  [325540 104276  20435]  \n",
       "3  [311908 122628  17770]  \n",
       "4  [338968 134860  20569]  "
      ]
     },
     "execution_count": 11,
     "metadata": {},
     "output_type": "execute_result"
    }
   ],
   "source": [
    "# open pre-synaptic/output synapse table of index 0 in cell_id_list (the Chandelier cell)\n",
    "\n",
    "pre_table = pd.read_csv(f'{table_path}{cell_id_list[0]}_syn_df_pre.csv')\n",
    "print(f\"length: {len(pre_table)}\")\n",
    "pre_table.head()"
   ]
  },
  {
   "cell_type": "code",
   "execution_count": 12,
   "id": "8e3a5722",
   "metadata": {
    "scrolled": true
   },
   "outputs": [
    {
     "name": "stdout",
     "output_type": "stream",
     "text": [
      "length: 191\n"
     ]
    }
   ],
   "source": [
    "print(f\"length: {len(pre_table['post_pt_root_id'].unique())}\")\n",
    "# print(pre_table['post_pt_root_id'].unique())"
   ]
  },
  {
   "cell_type": "markdown",
   "id": "20e25cdb",
   "metadata": {},
   "source": [
    "## Display"
   ]
  },
  {
   "cell_type": "code",
   "execution_count": 13,
   "id": "b8691584",
   "metadata": {},
   "outputs": [
    {
     "data": {
      "text/html": [
       "\n",
       "<style>\n",
       "    .output_wrapper, .output {\n",
       "        height: auto !important;\n",
       "        max-height: none !important;\n",
       "    }\n",
       "    .output_scroll {\n",
       "        height: auto !important;\n",
       "        max-height: none !important;\n",
       "    }\n",
       "</style>\n"
      ],
      "text/plain": [
       "<IPython.core.display.HTML object>"
      ]
     },
     "metadata": {},
     "output_type": "display_data"
    }
   ],
   "source": [
    "# increase output window size for plotly\n",
    "\n",
    "from IPython.core.display import display, HTML\n",
    "\n",
    "# Adjust the size of the output cell\n",
    "display(HTML('''\n",
    "<style>\n",
    "    .output_wrapper, .output {\n",
    "        height: auto !important;\n",
    "        max-height: none !important;\n",
    "    }\n",
    "    .output_scroll {\n",
    "        height: auto !important;\n",
    "        max-height: none !important;\n",
    "    }\n",
    "</style>\n",
    "'''))\n"
   ]
  },
  {
   "cell_type": "markdown",
   "id": "738d417a",
   "metadata": {},
   "source": [
    "### Set up Chandelier-target pair"
   ]
  },
  {
   "cell_type": "code",
   "execution_count": 14,
   "id": "f76d57ff",
   "metadata": {
    "scrolled": true
   },
   "outputs": [],
   "source": [
    "post_index = 1 # set the starting index following the Chandelier cell at index 0; 1 by default\n",
    "\n",
    "# Chandelier cell body and post-synaptic sites\n",
    "chand = mesh_dictionary['cell_0']\n",
    "\n",
    "# Plot target neuron and synapses recieved from the Chandelier cell\n",
    "target = mesh_dictionary['cell_' + str(post_index)]\n",
    "\n",
    "# retrieve and plot location of synaptic sites received from Chandelier cell\n",
    "target_syn_position_array = pre_table[pre_table['post_pt_root_id'] == cell_id_list[post_index]].ctr_pt_position.values\n",
    "# Format the array with commas between values and convert to a numeric array\n",
    "target_formatted_array = np.array([np.fromstring(item.strip('[]'), sep=' ') for item in target_syn_position_array])\n",
    "# Apply the scale factor transformation\n",
    "target_transformed_array = target_formatted_array * scale_factor\n",
    "# Convert the transformed array to integers\n",
    "presyn_xyz = target_transformed_array.astype(int)\n"
   ]
  },
  {
   "cell_type": "code",
   "execution_count": 15,
   "id": "92185f31",
   "metadata": {},
   "outputs": [
    {
     "name": "stdout",
     "output_type": "stream",
     "text": [
      "Chandelier root id: 864691135397985569\n",
      "Target root id: 864691134965433631\n"
     ]
    }
   ],
   "source": [
    "print(f'Chandelier root id: {cell_id_list[0]}')\n",
    "print(f'Target root id: {cell_id_list[post_index]}')"
   ]
  },
  {
   "cell_type": "code",
   "execution_count": 16,
   "id": "e38f4102",
   "metadata": {},
   "outputs": [
    {
     "data": {
      "text/plain": [
       "array(['[332837 111629  23063]', '[332512 113554  23052]',\n",
       "       '[333188 110800  23075]', '[332674 112893  23043]'], dtype=object)"
      ]
     },
     "execution_count": 16,
     "metadata": {},
     "output_type": "execute_result"
    }
   ],
   "source": [
    "target_syn_position_array"
   ]
  },
  {
   "cell_type": "code",
   "execution_count": 17,
   "id": "985d30ce",
   "metadata": {},
   "outputs": [
    {
     "data": {
      "text/html": [
       "<div>\n",
       "<style scoped>\n",
       "    .dataframe tbody tr th:only-of-type {\n",
       "        vertical-align: middle;\n",
       "    }\n",
       "\n",
       "    .dataframe tbody tr th {\n",
       "        vertical-align: top;\n",
       "    }\n",
       "\n",
       "    .dataframe thead th {\n",
       "        text-align: right;\n",
       "    }\n",
       "</style>\n",
       "<table border=\"1\" class=\"dataframe\">\n",
       "  <thead>\n",
       "    <tr style=\"text-align: right;\">\n",
       "      <th></th>\n",
       "      <th>id</th>\n",
       "      <th>created</th>\n",
       "      <th>superceded_id</th>\n",
       "      <th>valid</th>\n",
       "      <th>size</th>\n",
       "      <th>pre_pt_supervoxel_id</th>\n",
       "      <th>pre_pt_root_id</th>\n",
       "      <th>post_pt_supervoxel_id</th>\n",
       "      <th>post_pt_root_id</th>\n",
       "      <th>pre_pt_position</th>\n",
       "      <th>post_pt_position</th>\n",
       "      <th>ctr_pt_position</th>\n",
       "    </tr>\n",
       "  </thead>\n",
       "  <tbody>\n",
       "    <tr>\n",
       "      <th>0</th>\n",
       "      <td>404931405</td>\n",
       "      <td>2020-11-04 06:48:59.326085+00:00</td>\n",
       "      <td>NaN</td>\n",
       "      <td>t</td>\n",
       "      <td>6100</td>\n",
       "      <td>109432675198581331</td>\n",
       "      <td>864691135397985569</td>\n",
       "      <td>109432675198577279</td>\n",
       "      <td>864691135511460560</td>\n",
       "      <td>[324992 129858  21963]</td>\n",
       "      <td>[325058 129906  21954]</td>\n",
       "      <td>[325038 129840  21959]</td>\n",
       "    </tr>\n",
       "    <tr>\n",
       "      <th>1</th>\n",
       "      <td>382604970</td>\n",
       "      <td>2020-11-04 06:48:59.510128+00:00</td>\n",
       "      <td>NaN</td>\n",
       "      <td>t</td>\n",
       "      <td>1636</td>\n",
       "      <td>107528732973313968</td>\n",
       "      <td>864691135397985569</td>\n",
       "      <td>107528732973337107</td>\n",
       "      <td>864691135865543557</td>\n",
       "      <td>[311194 100304  18745]</td>\n",
       "      <td>[311088 100312  18756]</td>\n",
       "      <td>[311136 100264  18750]</td>\n",
       "    </tr>\n",
       "    <tr>\n",
       "      <th>2</th>\n",
       "      <td>403854339</td>\n",
       "      <td>2020-11-04 06:49:11.545614+00:00</td>\n",
       "      <td>NaN</td>\n",
       "      <td>t</td>\n",
       "      <td>2084</td>\n",
       "      <td>109499607767656143</td>\n",
       "      <td>864691135397985569</td>\n",
       "      <td>109499607767655080</td>\n",
       "      <td>864691135481716357</td>\n",
       "      <td>[325486 104284  20437]</td>\n",
       "      <td>[325566 104294  20436]</td>\n",
       "      <td>[325540 104276  20435]</td>\n",
       "    </tr>\n",
       "    <tr>\n",
       "      <th>3</th>\n",
       "      <td>385002847</td>\n",
       "      <td>2020-11-04 06:49:11.545614+00:00</td>\n",
       "      <td>NaN</td>\n",
       "      <td>t</td>\n",
       "      <td>2468</td>\n",
       "      <td>107672493984493151</td>\n",
       "      <td>864691135397985569</td>\n",
       "      <td>107672493984497832</td>\n",
       "      <td>864691135538970738</td>\n",
       "      <td>[311892 122598  17768]</td>\n",
       "      <td>[311928 122674  17770]</td>\n",
       "      <td>[311908 122628  17770]</td>\n",
       "    </tr>\n",
       "    <tr>\n",
       "      <th>4</th>\n",
       "      <td>427032923</td>\n",
       "      <td>2020-11-04 06:53:24.912290+00:00</td>\n",
       "      <td>NaN</td>\n",
       "      <td>t</td>\n",
       "      <td>12712</td>\n",
       "      <td>111333249632055074</td>\n",
       "      <td>864691135397985569</td>\n",
       "      <td>111333318351529892</td>\n",
       "      <td>864691135988011011</td>\n",
       "      <td>[338954 134836  20576]</td>\n",
       "      <td>[338950 134858  20567]</td>\n",
       "      <td>[338968 134860  20569]</td>\n",
       "    </tr>\n",
       "    <tr>\n",
       "      <th>...</th>\n",
       "      <td>...</td>\n",
       "      <td>...</td>\n",
       "      <td>...</td>\n",
       "      <td>...</td>\n",
       "      <td>...</td>\n",
       "      <td>...</td>\n",
       "      <td>...</td>\n",
       "      <td>...</td>\n",
       "      <td>...</td>\n",
       "      <td>...</td>\n",
       "      <td>...</td>\n",
       "      <td>...</td>\n",
       "    </tr>\n",
       "    <tr>\n",
       "      <th>296</th>\n",
       "      <td>377268073</td>\n",
       "      <td>2020-11-04 12:56:48.427507+00:00</td>\n",
       "      <td>NaN</td>\n",
       "      <td>t</td>\n",
       "      <td>812</td>\n",
       "      <td>107391362605249779</td>\n",
       "      <td>864691135397985569</td>\n",
       "      <td>107391362605237257</td>\n",
       "      <td>864691135987883779</td>\n",
       "      <td>[310110 125424  17855]</td>\n",
       "      <td>[310118 125522  17848]</td>\n",
       "      <td>[310121 125435  17852]</td>\n",
       "    </tr>\n",
       "    <tr>\n",
       "      <th>297</th>\n",
       "      <td>409842791</td>\n",
       "      <td>2020-11-04 11:30:17.062704+00:00</td>\n",
       "      <td>NaN</td>\n",
       "      <td>t</td>\n",
       "      <td>1720</td>\n",
       "      <td>109924294334892937</td>\n",
       "      <td>864691135397985569</td>\n",
       "      <td>109924294334887109</td>\n",
       "      <td>864691135816354383</td>\n",
       "      <td>[328580 122846  21704]</td>\n",
       "      <td>[328492 122854  21700]</td>\n",
       "      <td>[328554 122832  21703]</td>\n",
       "    </tr>\n",
       "    <tr>\n",
       "      <th>298</th>\n",
       "      <td>416257444</td>\n",
       "      <td>2020-11-04 07:03:22.546382+00:00</td>\n",
       "      <td>NaN</td>\n",
       "      <td>t</td>\n",
       "      <td>1080</td>\n",
       "      <td>110275451062487007</td>\n",
       "      <td>864691135397985569</td>\n",
       "      <td>110275451062494890</td>\n",
       "      <td>864691135382949338</td>\n",
       "      <td>[331200 117704  23384]</td>\n",
       "      <td>[331166 117676  23393]</td>\n",
       "      <td>[331176 117635  23386]</td>\n",
       "    </tr>\n",
       "    <tr>\n",
       "      <th>299</th>\n",
       "      <td>390991997</td>\n",
       "      <td>2020-11-04 09:30:49.223739+00:00</td>\n",
       "      <td>NaN</td>\n",
       "      <td>t</td>\n",
       "      <td>896</td>\n",
       "      <td>108095050382115119</td>\n",
       "      <td>864691135397985569</td>\n",
       "      <td>108095050382075089</td>\n",
       "      <td>864691136812291955</td>\n",
       "      <td>[314938 125540  19990]</td>\n",
       "      <td>[315068 125486  19974]</td>\n",
       "      <td>[315024 125540  19983]</td>\n",
       "    </tr>\n",
       "    <tr>\n",
       "      <th>300</th>\n",
       "      <td>418305466</td>\n",
       "      <td>2020-11-04 13:32:10.801682+00:00</td>\n",
       "      <td>NaN</td>\n",
       "      <td>t</td>\n",
       "      <td>1992</td>\n",
       "      <td>110345543989200491</td>\n",
       "      <td>864691135397985569</td>\n",
       "      <td>110345543989206892</td>\n",
       "      <td>864691135876855379</td>\n",
       "      <td>[331546 115716  16190]</td>\n",
       "      <td>[331614 115776  16192]</td>\n",
       "      <td>[331582 115788  16196]</td>\n",
       "    </tr>\n",
       "  </tbody>\n",
       "</table>\n",
       "<p>301 rows × 12 columns</p>\n",
       "</div>"
      ],
      "text/plain": [
       "            id                           created  superceded_id valid   size  \\\n",
       "0    404931405  2020-11-04 06:48:59.326085+00:00            NaN     t   6100   \n",
       "1    382604970  2020-11-04 06:48:59.510128+00:00            NaN     t   1636   \n",
       "2    403854339  2020-11-04 06:49:11.545614+00:00            NaN     t   2084   \n",
       "3    385002847  2020-11-04 06:49:11.545614+00:00            NaN     t   2468   \n",
       "4    427032923  2020-11-04 06:53:24.912290+00:00            NaN     t  12712   \n",
       "..         ...                               ...            ...   ...    ...   \n",
       "296  377268073  2020-11-04 12:56:48.427507+00:00            NaN     t    812   \n",
       "297  409842791  2020-11-04 11:30:17.062704+00:00            NaN     t   1720   \n",
       "298  416257444  2020-11-04 07:03:22.546382+00:00            NaN     t   1080   \n",
       "299  390991997  2020-11-04 09:30:49.223739+00:00            NaN     t    896   \n",
       "300  418305466  2020-11-04 13:32:10.801682+00:00            NaN     t   1992   \n",
       "\n",
       "     pre_pt_supervoxel_id      pre_pt_root_id  post_pt_supervoxel_id  \\\n",
       "0      109432675198581331  864691135397985569     109432675198577279   \n",
       "1      107528732973313968  864691135397985569     107528732973337107   \n",
       "2      109499607767656143  864691135397985569     109499607767655080   \n",
       "3      107672493984493151  864691135397985569     107672493984497832   \n",
       "4      111333249632055074  864691135397985569     111333318351529892   \n",
       "..                    ...                 ...                    ...   \n",
       "296    107391362605249779  864691135397985569     107391362605237257   \n",
       "297    109924294334892937  864691135397985569     109924294334887109   \n",
       "298    110275451062487007  864691135397985569     110275451062494890   \n",
       "299    108095050382115119  864691135397985569     108095050382075089   \n",
       "300    110345543989200491  864691135397985569     110345543989206892   \n",
       "\n",
       "        post_pt_root_id         pre_pt_position        post_pt_position  \\\n",
       "0    864691135511460560  [324992 129858  21963]  [325058 129906  21954]   \n",
       "1    864691135865543557  [311194 100304  18745]  [311088 100312  18756]   \n",
       "2    864691135481716357  [325486 104284  20437]  [325566 104294  20436]   \n",
       "3    864691135538970738  [311892 122598  17768]  [311928 122674  17770]   \n",
       "4    864691135988011011  [338954 134836  20576]  [338950 134858  20567]   \n",
       "..                  ...                     ...                     ...   \n",
       "296  864691135987883779  [310110 125424  17855]  [310118 125522  17848]   \n",
       "297  864691135816354383  [328580 122846  21704]  [328492 122854  21700]   \n",
       "298  864691135382949338  [331200 117704  23384]  [331166 117676  23393]   \n",
       "299  864691136812291955  [314938 125540  19990]  [315068 125486  19974]   \n",
       "300  864691135876855379  [331546 115716  16190]  [331614 115776  16192]   \n",
       "\n",
       "            ctr_pt_position  \n",
       "0    [325038 129840  21959]  \n",
       "1    [311136 100264  18750]  \n",
       "2    [325540 104276  20435]  \n",
       "3    [311908 122628  17770]  \n",
       "4    [338968 134860  20569]  \n",
       "..                      ...  \n",
       "296  [310121 125435  17852]  \n",
       "297  [328554 122832  21703]  \n",
       "298  [331176 117635  23386]  \n",
       "299  [315024 125540  19983]  \n",
       "300  [331582 115788  16196]  \n",
       "\n",
       "[301 rows x 12 columns]"
      ]
     },
     "execution_count": 17,
     "metadata": {},
     "output_type": "execute_result"
    }
   ],
   "source": [
    "pre_table"
   ]
  },
  {
   "cell_type": "markdown",
   "id": "bd3d08b3",
   "metadata": {},
   "source": [
    "### 2D matplotlib scatterplot"
   ]
  },
  {
   "cell_type": "code",
   "execution_count": 18,
   "id": "cae03c79",
   "metadata": {},
   "outputs": [
    {
     "data": {
      "image/png": "[encoded data removed]",
      "text/plain": [
       "<Figure size 640x480 with 1 Axes>"
      ]
     },
     "metadata": {},
     "output_type": "display_data"
    }
   ],
   "source": [
    "cell_gran = 50\n",
    "cell_opac = 1\n",
    "\n",
    "fig, ax = plt.subplots()\n",
    "\n",
    "# plot cell body at defined granularity\n",
    "ax.scatter(\n",
    "    chand.vertices[::cell_gran, 0],\n",
    "    chand.vertices[::cell_gran, 1],\n",
    "    s=0.5, \n",
    "    alpha=cell_opac, \n",
    "    color=np.random.rand(3,)\n",
    ")\n",
    "\n",
    "# all post-synaptic (input or incoming) sites on the Chandelier cell\n",
    "# comment or uncomment to hide or show\n",
    "ax.scatter(postsyn_xyz[:,0], postsyn_xyz[:,1], c='red', s=1, alpha=1) # modify c, s, and alpha if desired\n",
    "\n",
    "# set aspect and y-scale\n",
    "ax.set_aspect('equal')\n",
    "ax.set_ylim(np.max(chand.vertices[:,1]), np.min(chand.vertices[:,1]))\n",
    "\n",
    "# plot target cell body\n",
    "ax.scatter(\n",
    "    target.vertices[::cell_gran, 0],\n",
    "    target.vertices[::cell_gran, 1],\n",
    "    s=0.5, \n",
    "    alpha=cell_opac, \n",
    "    color=np.random.rand(3,)\n",
    ")\n",
    "\n",
    "# plot target synapse positions\n",
    "ax.scatter(presyn_xyz[:,0], presyn_xyz[:,1], c='green', s=25, alpha=1) # modify c, s, and alpha if desired\n",
    "\n",
    "# set aspect and y-scale\n",
    "# ax.set_aspect('equal')\n",
    "# ax.set_ylim(np.max(target.vertices[:,1]), np.min(target.vertices[:,1]))\n",
    "\n",
    "plt.show()"
   ]
  },
  {
   "cell_type": "markdown",
   "id": "fbc44a8b",
   "metadata": {},
   "source": [
    "### 3D interactive plotly scatterplot"
   ]
  },
  {
   "cell_type": "code",
   "execution_count": 19,
   "id": "8532ad87",
   "metadata": {
    "scrolled": true
   },
   "outputs": [],
   "source": [
    "# use same settings as previous 2d plot\n",
    "# cell_gran = 5000\n",
    "# cell_opac = 1\n",
    "chand_color = 'rgb(0.5, 0.5, 0.5)'\n",
    "\n",
    "fig = go.Figure()\n",
    "\n",
    "# plot Chandelier cell body\n",
    "fig.add_trace(go.Scatter3d(\n",
    "    x=chand.vertices[::cell_gran, 0],\n",
    "    y=chand.vertices[::cell_gran, 1],\n",
    "    z=chand.vertices[::cell_gran, 2],\n",
    "    mode='markers',\n",
    "    marker=dict(size=0.5, opacity=cell_opac, color=chand_color), #'rgb({}, {}, {})'.format(*np.random.rand(3,))),\n",
    "    hoverinfo='none',\n",
    "    showlegend=False\n",
    "))\n",
    "\n",
    "# uncomment to add Chandelier post-synaptic (incoming/input) sites\n",
    "\n",
    "fig.add_trace(go.Scatter3d(\n",
    "    x=postsyn_xyz[:, 0],\n",
    "    y=postsyn_xyz[:, 1],\n",
    "    z=postsyn_xyz[:, 2],\n",
    "    mode='markers',\n",
    "    marker=dict(\n",
    "        color='red',      # Marker color\n",
    "        size=1,           # Marker size\n",
    "        opacity=0.75         # Transparency\n",
    "    ),\n",
    "    hoverinfo='none',\n",
    "    showlegend=False\n",
    "))\n",
    "\n",
    "# plot target cell body\n",
    "fig.add_trace(go.Scatter3d(\n",
    "    x=target.vertices[::cell_gran, 0],\n",
    "    y=target.vertices[::cell_gran, 1],\n",
    "    z=target.vertices[::cell_gran, 2],\n",
    "    mode='markers',\n",
    "    marker=dict(size=0.5, opacity=cell_opac, color='rgb({}, {}, {})'.format(*np.random.rand(3,))),\n",
    "    hoverinfo='none',\n",
    "    showlegend=False\n",
    "))\n",
    "\n",
    "# add target synaptic sites received from Chandelier cell\n",
    "fig.add_trace(go.Scatter3d(\n",
    "    x=presyn_xyz[:, 0],\n",
    "    y=presyn_xyz[:, 1],\n",
    "    z=presyn_xyz[:, 2],\n",
    "    mode='markers',\n",
    "    marker=dict(\n",
    "        color='green',      # Marker color\n",
    "        size=10,           # Marker size\n",
    "        opacity=0.5         # Transparency\n",
    "    ),\n",
    "    hoverinfo='none',\n",
    "    showlegend=False\n",
    "))\n",
    "\n",
    "# Set the camera view\n",
    "camera = dict(\n",
    "    up=dict(x=0, y=0, z=1),\n",
    "    center=dict(x=0, y=0, z=0),\n",
    "    eye=dict(x=0, y=0, z=1)  # Adjust these values to match the view in your screenshot\n",
    ")\n",
    "\n",
    "fig.update_layout(\n",
    "    width=1000,\n",
    "    height=1000,\n",
    "    scene=dict(\n",
    "        xaxis=dict(autorange='reversed'),  # Reverse the x-axis\n",
    "        aspectmode='manual',\n",
    "        aspectratio=dict(x=1, y=1, z=0.4),  # Compress the z-axis\n",
    "        camera=camera\n",
    "    ),\n",
    "     dragmode='orbit'  # Set default interaction mode to orbital rotation\n",
    ")\n",
    "\n",
    "# Customize layout to suppress axes, labels, and background shading\n",
    "fig.update_layout(\n",
    "    scene=dict(\n",
    "        xaxis=dict(visible=False),  # Hide x-axis\n",
    "        yaxis=dict(visible=False),  # Hide y-axis\n",
    "        zaxis=dict(visible=False),  # Hide z-axis\n",
    "        bgcolor='rgba(0,0,0,0)'     # Set background to transparent\n",
    "    )\n",
    ")\n",
    "\n",
    "fig.show()"
   ]
  },
  {
   "cell_type": "markdown",
   "id": "a20d56b7",
   "metadata": {},
   "source": [
    "### vtk OpenGL visualizer"
   ]
  },
  {
   "cell_type": "code",
   "execution_count": 20,
   "id": "554e5b10",
   "metadata": {},
   "outputs": [
    {
     "name": "stdout",
     "output_type": "stream",
     "text": [
      "setting up renderer\n",
      "done setting up\n",
      "actors added\n",
      "camera set\n",
      "render done\n",
      "finalizing..\n"
     ]
    },
    {
     "data": {
      "text/plain": [
       "<vtkmodules.vtkRenderingOpenGL2.vtkOpenGLRenderer(0x0000023FBB999B80) at 0x0000023FAC5E8CA8>"
      ]
     },
     "execution_count": 20,
     "metadata": {},
     "output_type": "execute_result"
    }
   ],
   "source": [
    "# opacity and color settings for cell membrane meshes \n",
    "chand_opac = 0.4\n",
    "chand_color = (0.2, 0.4, 0.7)\n",
    "target_opac = 0.4\n",
    "\n",
    "# settings to visualize pre and post synaptic sites (as dots)\n",
    "pre_color = (0.2, 0.9, 0.2)\n",
    "post_color = (0.9, 0.2, 0.2)\n",
    "pre_opac = 0.5\n",
    "post_opac = 1\n",
    "pre_size = 2000 #250\n",
    "post_size = 250 #250\n",
    "presyn_actor = trimesh_vtk.point_cloud_actor(presyn_xyz, size=pre_size, opacity=pre_opac, color=pre_color)  \n",
    "postsyn_actor = trimesh_vtk.point_cloud_actor(postsyn_xyz, size=post_size, opacity=post_opac, color=post_color)\n",
    "\n",
    "# add Chandelier cell and target cell membrane meshes\n",
    "mesh_actor = {}\n",
    "mesh_actor['cell_0'] = trimesh_vtk.mesh_actor(chand, opacity=chand_opac, color=chand_color)\n",
    "mesh_actor['cell_' + str(post_index)] = trimesh_vtk.mesh_actor(target, opacity=target_opac, color=np.random.random(size=3))\n",
    "locals().update(mesh_actor)\n",
    "\n",
    "# add Chandelier input synapses and pre-synaptic contact to the target cell\n",
    "mesh_actor['presyn_actor'] = presyn_actor\n",
    "mesh_actor['postsyn_actor'] = postsyn_actor\n",
    "locals().update(mesh_actor)\n",
    "\n",
    "# calculate the centroid of the presyn_xyz coordinates to use as the center of the camera view\n",
    "presyn_centroid = presyn_xyz.mean(axis=0)\n",
    "\n",
    "#creating a camera object and defining the view\n",
    "camera = trimesh_vtk.oriented_camera(presyn_centroid, backoff=500)\n",
    "\n",
    "#render the actors, will open a pop up python window\n",
    "trimesh_vtk.render_actors(mesh_actor.values(), camera=camera)"
   ]
  },
  {
   "cell_type": "markdown",
   "id": "783d6f91",
   "metadata": {},
   "source": [
    "### save image to disk"
   ]
  },
  {
   "cell_type": "code",
   "execution_count": 21,
   "id": "7e67bb6f",
   "metadata": {
    "scrolled": true
   },
   "outputs": [],
   "source": [
    "# define subdirectory to save vtk images\n",
    "chand_folder_name = f'chandelier/chand_{cell_id_list[0]}'\n",
    "\n",
    "# Create the subdirectory\n",
    "#os.makedirs(chand_folder_name, exist_ok=True)\n",
    "\n",
    "# create filename\n",
    "pair_filename = f'chandelier/chand_{cell_id_list[0]}/chand_{cell_id_list[0]}_target_{cell_id_list[post_index]}.png'\n",
    "\n",
    "# uncomment to save\n",
    "\n",
    "# #camera = trimesh_vtk.oriented_camera(presyn_centroid, backoff=500) # modify backoff accordingly\n",
    "# trimesh_vtk.render_actors(mesh_actor.values(),\n",
    "#                           filename=pair_filename,\n",
    "#                           do_save=True,\n",
    "#                           scale=4,\n",
    "#                           camera=camera\n",
    "#                          )"
   ]
  },
  {
   "cell_type": "code",
   "execution_count": 22,
   "id": "3f099a78",
   "metadata": {},
   "outputs": [
    {
     "data": {
      "text/plain": [
       "'chand_864691135397985569_target_864691134965433631_movie_zoom'"
      ]
     },
     "execution_count": 22,
     "metadata": {},
     "output_type": "execute_result"
    }
   ],
   "source": [
    "movie_filename = f'chand_{cell_id_list[0]}_target_{cell_id_list[post_index]}_movie_zoom'\n",
    "movie_filename"
   ]
  },
  {
   "cell_type": "code",
   "execution_count": 23,
   "id": "9f3cd49d",
   "metadata": {},
   "outputs": [],
   "source": [
    "# # vtk animation code here\n",
    "\n",
    "# camera_1 = trimesh_vtk.oriented_camera(mesh_actor.centroid, backoff=500)\n",
    "# camera_2 = trimesh_vtk.oriented_camera(mesh_actor.centroid, backoff=100)\n",
    "# movie_filename = f'chand_{cell_id_list[0]}_target_{cell_id_list[post_index]}_movie_zoom'\n",
    "\n",
    "# trimesh_vtk.render_movie([mesh_actor],\n",
    "#                          movie_filename,\n",
    "#                          [0,300],\n",
    "#                          [camera_1, camera_2],\n",
    "#                          do_save=True)"
   ]
  },
  {
   "cell_type": "code",
   "execution_count": 24,
   "id": "ad7a42c3",
   "metadata": {},
   "outputs": [],
   "source": [
    "# # save movie as mp4 using moviepy\n",
    "# import moviepy.editor as mpe\n",
    "\n",
    "# clip = mpe.ImageSequenceClip(movie_filename,fps=30)\n",
    "# clip.write_videofile(f'{movie_filename}.mp4')"
   ]
  },
  {
   "cell_type": "markdown",
   "id": "9fdb8605",
   "metadata": {},
   "source": [
    "### Generate vtk visualizations of all Chandelier-target pairs"
   ]
  },
  {
   "cell_type": "code",
   "execution_count": 25,
   "id": "bb8ffa19",
   "metadata": {},
   "outputs": [],
   "source": [
    "# Create subdirectory to save vtk images\n",
    "chand_folder_name = f'chandelier/chand_{cell_id_list[0]}'\n",
    "os.makedirs(chand_folder_name, exist_ok=True)\n",
    "\n",
    "# Opacity and color settings for cell membrane meshes\n",
    "chand_opac = 0.4\n",
    "chand_color = (0.2, 0.4, 0.7)\n",
    "target_opac = 0.4\n",
    "\n",
    "# Settings to visualize pre and post synaptic sites (as dots)\n",
    "pre_color = (0.2, 0.9, 0.2)\n",
    "post_color = (0.9, 0.2, 0.2)\n",
    "pre_opac = 0.5\n",
    "post_opac = 1\n",
    "pre_size = 2000\n",
    "post_size = 250\n",
    "\n",
    "# Chandelier cell body and post-synaptic sites\n",
    "chand = mesh_dictionary['cell_0']\n",
    "\n",
    "# Iterate over the target cells in mesh_dictionary\n",
    "for post_index in range(1, len(mesh_dictionary)):\n",
    "    # Plot target neuron and synapses received from the Chandelier cell\n",
    "    target = mesh_dictionary['cell_' + str(post_index)]\n",
    "\n",
    "    # Retrieve and plot location of synaptic sites received from Chandelier cell\n",
    "    target_syn_position_array = pre_table[pre_table['post_pt_root_id'] == cell_id_list[post_index]].ctr_pt_position.values\n",
    "    # Format the array with commas between values and convert to a numeric array\n",
    "    target_formatted_array = np.array([np.fromstring(item.strip('[]'), sep=' ') for item in target_syn_position_array])\n",
    "    # Apply the scale factor transformation\n",
    "    target_transformed_array = target_formatted_array * scale_factor\n",
    "    # Convert the transformed array to integers\n",
    "    presyn_xyz = target_transformed_array.astype(int)\n",
    "\n",
    "    # Create presynaptic and postsynaptic actors\n",
    "    presyn_actor = trimesh_vtk.point_cloud_actor(presyn_xyz, size=pre_size, opacity=pre_opac, color=pre_color)  \n",
    "    postsyn_actor = trimesh_vtk.point_cloud_actor(postsyn_xyz, size=post_size, opacity=post_opac, color=post_color)\n",
    "\n",
    "    # Add Chandelier cell and target cell membrane meshes\n",
    "    mesh_actor = {}\n",
    "    mesh_actor['cell_0'] = trimesh_vtk.mesh_actor(chand, opacity=chand_opac, color=chand_color)\n",
    "    mesh_actor['cell_' + str(post_index)] = trimesh_vtk.mesh_actor(target, opacity=target_opac, color=np.random.random(size=3))\n",
    "    locals().update(mesh_actor)\n",
    "\n",
    "    # Add Chandelier input synapses and presynaptic contact to the target cell\n",
    "    mesh_actor['presyn_actor'] = presyn_actor\n",
    "    mesh_actor['postsyn_actor'] = postsyn_actor\n",
    "    locals().update(mesh_actor)\n",
    "\n",
    "    # Calculate the centroid of the presyn_xyz coordinates to use as the center of the camera view\n",
    "    presyn_centroid = presyn_xyz.mean(axis=0)\n",
    "\n",
    "    # Create a camera object and define the view\n",
    "    camera = trimesh_vtk.oriented_camera(presyn_centroid, backoff=500)\n",
    "\n",
    "    # Render the actors and open a pop-up Python window\n",
    "    trimesh_vtk.render_actors(mesh_actor.values(), camera=camera)\n",
    "\n",
    "    # Create filename\n",
    "    pair_filename = f'chandelier/chand_{cell_id_list[0]}/chand_{cell_id_list[0]}_target_{cell_id_list[post_index]}.png'\n",
    "\n",
    "    # Save to disk\n",
    "    trimesh_vtk.render_actors(\n",
    "        mesh_actor.values(),\n",
    "        filename=pair_filename,\n",
    "        do_save=True,\n",
    "        scale=4,\n",
    "        camera=camera\n",
    "    )\n"
   ]
  },
  {
   "cell_type": "code",
   "execution_count": 26,
   "id": "31c48d10",
   "metadata": {},
   "outputs": [
    {
     "data": {
      "text/plain": [
       "864691134965433631"
      ]
     },
     "execution_count": 26,
     "metadata": {},
     "output_type": "execute_result"
    }
   ],
   "source": [
    "cell_id_list[post_index]"
   ]
  },
  {
   "cell_type": "code",
   "execution_count": null,
   "id": "ec44dfe0",
   "metadata": {},
   "outputs": [],
   "source": []
  }
 ],
 "metadata": {
  "kernelspec": {
   "display_name": "Python 3 (ipykernel)",
   "language": "python",
   "name": "python3"
  },
  "language_info": {
   "codemirror_mode": {
    "name": "ipython",
    "version": 3
   },
   "file_extension": ".py",
   "mimetype": "text/x-python",
   "name": "python",
   "nbconvert_exporter": "python",
   "pygments_lexer": "ipython3",
   "version": "3.7.12"
  }
 },
 "nbformat": 4,
 "nbformat_minor": 5
}
